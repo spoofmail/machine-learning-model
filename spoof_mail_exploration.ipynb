{
 "cells": [
  {
   "cell_type": "code",
   "execution_count": 4,
   "metadata": {},
   "outputs": [],
   "source": [
    "import pandas as pd\n",
    "import numpy as np\n",
    "import matplotlib.pyplot as plt"
   ]
  },
  {
   "cell_type": "code",
   "execution_count": 5,
   "metadata": {},
   "outputs": [
    {
     "name": "stderr",
     "output_type": "stream",
     "text": [
      "/Users/ljohnson/anaconda3/lib/python3.7/site-packages/defusedxml/ElementTree.py:68: DeprecationWarning: The html argument of XMLParser() is deprecated\n",
      "  _XMLParser.__init__(self, html, target, encoding)\n",
      "/Users/ljohnson/anaconda3/lib/python3.7/site-packages/defusedxml/ElementTree.py:68: DeprecationWarning: The html argument of XMLParser() is deprecated\n",
      "  _XMLParser.__init__(self, html, target, encoding)\n",
      "/Users/ljohnson/anaconda3/lib/python3.7/site-packages/defusedxml/ElementTree.py:68: DeprecationWarning: The html argument of XMLParser() is deprecated\n",
      "  _XMLParser.__init__(self, html, target, encoding)\n",
      "/Users/ljohnson/anaconda3/lib/python3.7/site-packages/defusedxml/ElementTree.py:68: DeprecationWarning: The html argument of XMLParser() is deprecated\n",
      "  _XMLParser.__init__(self, html, target, encoding)\n",
      "/Users/ljohnson/anaconda3/lib/python3.7/site-packages/defusedxml/ElementTree.py:68: DeprecationWarning: The html argument of XMLParser() is deprecated\n",
      "  _XMLParser.__init__(self, html, target, encoding)\n",
      "/Users/ljohnson/anaconda3/lib/python3.7/site-packages/defusedxml/ElementTree.py:68: DeprecationWarning: The html argument of XMLParser() is deprecated\n",
      "  _XMLParser.__init__(self, html, target, encoding)\n",
      "/Users/ljohnson/anaconda3/lib/python3.7/site-packages/defusedxml/ElementTree.py:68: DeprecationWarning: The html argument of XMLParser() is deprecated\n",
      "  _XMLParser.__init__(self, html, target, encoding)\n"
     ]
    },
    {
     "data": {
      "text/html": [
       "<div>\n",
       "<style scoped>\n",
       "    .dataframe tbody tr th:only-of-type {\n",
       "        vertical-align: middle;\n",
       "    }\n",
       "\n",
       "    .dataframe tbody tr th {\n",
       "        vertical-align: top;\n",
       "    }\n",
       "\n",
       "    .dataframe thead th {\n",
       "        text-align: right;\n",
       "    }\n",
       "</style>\n",
       "<table border=\"1\" class=\"dataframe\">\n",
       "  <thead>\n",
       "    <tr style=\"text-align: right;\">\n",
       "      <th></th>\n",
       "      <th>Country_Rank</th>\n",
       "      <th>Website</th>\n",
       "      <th>Trustworthiness</th>\n",
       "      <th>Avg_Daily_Visitors</th>\n",
       "      <th>Child_Safety</th>\n",
       "      <th>Avg_Daily_Pageviews</th>\n",
       "      <th>Privacy</th>\n",
       "      <th>Traffic_Rank</th>\n",
       "      <th>Daily_Pageviews</th>\n",
       "      <th>Daily_Pageviews_per_user_percentage</th>\n",
       "      <th>Location</th>\n",
       "      <th>Hosted_by</th>\n",
       "      <th>Registrant</th>\n",
       "      <th>Registrar</th>\n",
       "      <th>country</th>\n",
       "      <th>Privacy_policy</th>\n",
       "    </tr>\n",
       "  </thead>\n",
       "  <tbody>\n",
       "    <tr>\n",
       "      <th>0</th>\n",
       "      <td>1</td>\n",
       "      <td>www.google.com</td>\n",
       "      <td>Excellent</td>\n",
       "      <td>518 108 189</td>\n",
       "      <td>Excellent</td>\n",
       "      <td>4 186 314 171</td>\n",
       "      <td>Excellent</td>\n",
       "      <td>1</td>\n",
       "      <td>8.448960</td>\n",
       "      <td>33.9</td>\n",
       "      <td>United States</td>\n",
       "      <td>Google Inc.</td>\n",
       "      <td>DNS Admin (Google Inc.)</td>\n",
       "      <td>MARKMONITOR INC.</td>\n",
       "      <td>United States</td>\n",
       "      <td>Privacy Policy Last modified: December 18, 201...</td>\n",
       "    </tr>\n",
       "    <tr>\n",
       "      <th>1</th>\n",
       "      <td>2</td>\n",
       "      <td>www.youtube.com</td>\n",
       "      <td>Excellent</td>\n",
       "      <td>506 457 282</td>\n",
       "      <td>Excellent</td>\n",
       "      <td>2 679 159 025</td>\n",
       "      <td>Excellent</td>\n",
       "      <td>2</td>\n",
       "      <td>5.934720</td>\n",
       "      <td>3.8</td>\n",
       "      <td>United States</td>\n",
       "      <td>Google Inc.</td>\n",
       "      <td>DNS Admin (Google Inc.)</td>\n",
       "      <td>MARKMONITOR INC.</td>\n",
       "      <td>United States</td>\n",
       "      <td>Last modified: June 24, 2013 (view archived ve...</td>\n",
       "    </tr>\n",
       "    <tr>\n",
       "      <th>2</th>\n",
       "      <td>3</td>\n",
       "      <td>www.facebook.com</td>\n",
       "      <td>Excellent</td>\n",
       "      <td>270 071 255</td>\n",
       "      <td>Good</td>\n",
       "      <td>1 082 985 733</td>\n",
       "      <td>Excellent</td>\n",
       "      <td>3</td>\n",
       "      <td>2.046720</td>\n",
       "      <td>-8.2</td>\n",
       "      <td>Ireland</td>\n",
       "      <td>Facebook</td>\n",
       "      <td>Domain Administrator (Facebook, Inc.)</td>\n",
       "      <td>MARKMONITOR INC.</td>\n",
       "      <td>United States</td>\n",
       "      <td>Data Policy\\nThis policy describes the informa...</td>\n",
       "    </tr>\n",
       "    <tr>\n",
       "      <th>3</th>\n",
       "      <td>4</td>\n",
       "      <td>www.reddit.com</td>\n",
       "      <td>Excellent</td>\n",
       "      <td>60 614 015</td>\n",
       "      <td>Excellent</td>\n",
       "      <td>649 176 107</td>\n",
       "      <td>Excellent</td>\n",
       "      <td>9</td>\n",
       "      <td>1.390080</td>\n",
       "      <td>0.8</td>\n",
       "      <td>United States</td>\n",
       "      <td>Fastly</td>\n",
       "      <td>Domain Administrator (Reddit Inc)</td>\n",
       "      <td>GANDI SAS</td>\n",
       "      <td>United States</td>\n",
       "      <td>Reddit Privacy Policy\\nEffective June 8, 2018....</td>\n",
       "    </tr>\n",
       "    <tr>\n",
       "      <th>4</th>\n",
       "      <td>5</td>\n",
       "      <td>www.amazon.com</td>\n",
       "      <td>Excellent</td>\n",
       "      <td>48 820 414</td>\n",
       "      <td>Excellent</td>\n",
       "      <td>399 350 988</td>\n",
       "      <td>Excellent</td>\n",
       "      <td>11</td>\n",
       "      <td>0.770688</td>\n",
       "      <td>-1.5</td>\n",
       "      <td>United States</td>\n",
       "      <td>Amazon Technologies Inc.</td>\n",
       "      <td>Hostmaster, Amazon Legal Dept. (Amazon Technol...</td>\n",
       "      <td>MARKMONITOR INC.</td>\n",
       "      <td>United States</td>\n",
       "      <td>Amazon Privacy Notice\\n\\nLast updated: August ...</td>\n",
       "    </tr>\n",
       "  </tbody>\n",
       "</table>\n",
       "</div>"
      ],
      "text/plain": [
       "   Country_Rank           Website Trustworthiness Avg_Daily_Visitors  \\\n",
       "0             1    www.google.com       Excellent        518 108 189   \n",
       "1             2   www.youtube.com       Excellent        506 457 282   \n",
       "2             3  www.facebook.com       Excellent        270 071 255   \n",
       "3             4    www.reddit.com       Excellent         60 614 015   \n",
       "4             5    www.amazon.com       Excellent         48 820 414   \n",
       "\n",
       "  Child_Safety Avg_Daily_Pageviews    Privacy  Traffic_Rank  Daily_Pageviews  \\\n",
       "0    Excellent       4 186 314 171  Excellent             1         8.448960   \n",
       "1    Excellent       2 679 159 025  Excellent             2         5.934720   \n",
       "2         Good       1 082 985 733  Excellent             3         2.046720   \n",
       "3    Excellent         649 176 107  Excellent             9         1.390080   \n",
       "4    Excellent         399 350 988  Excellent            11         0.770688   \n",
       "\n",
       "   Daily_Pageviews_per_user_percentage       Location  \\\n",
       "0                                 33.9  United States   \n",
       "1                                  3.8  United States   \n",
       "2                                 -8.2        Ireland   \n",
       "3                                  0.8  United States   \n",
       "4                                 -1.5  United States   \n",
       "\n",
       "                  Hosted_by  \\\n",
       "0               Google Inc.   \n",
       "1               Google Inc.   \n",
       "2                  Facebook   \n",
       "3                    Fastly   \n",
       "4  Amazon Technologies Inc.   \n",
       "\n",
       "                                          Registrant         Registrar  \\\n",
       "0                            DNS Admin (Google Inc.)  MARKMONITOR INC.   \n",
       "1                            DNS Admin (Google Inc.)  MARKMONITOR INC.   \n",
       "2              Domain Administrator (Facebook, Inc.)  MARKMONITOR INC.   \n",
       "3                  Domain Administrator (Reddit Inc)         GANDI SAS   \n",
       "4  Hostmaster, Amazon Legal Dept. (Amazon Technol...  MARKMONITOR INC.   \n",
       "\n",
       "         country                                     Privacy_policy  \n",
       "0  United States  Privacy Policy Last modified: December 18, 201...  \n",
       "1  United States  Last modified: June 24, 2013 (view archived ve...  \n",
       "2  United States  Data Policy\\nThis policy describes the informa...  \n",
       "3  United States  Reddit Privacy Policy\\nEffective June 8, 2018....  \n",
       "4  United States  Amazon Privacy Notice\\n\\nLast updated: August ...  "
      ]
     },
     "execution_count": 5,
     "metadata": {},
     "output_type": "execute_result"
    }
   ],
   "source": [
    "web_info_df = pd.read_excel(\"/Users/ljohnson/repos/livjab/spoofmail/website_privacy.xlsx\", sheet_name=\"Sheet1\")\n",
    "web_info_df.head()"
   ]
  },
  {
   "cell_type": "markdown",
   "metadata": {},
   "source": [
    "## Tokenize and visualize Privacy Policy Data"
   ]
  },
  {
   "cell_type": "code",
   "execution_count": 6,
   "metadata": {},
   "outputs": [],
   "source": [
    "import re\n",
    "\n",
    "def tokenizer(text):\n",
    "    sample = re.sub(r'[^a-zA-Z ^0-9]', '', text)\n",
    "    tokens = sample.lower().split()\n",
    "    \n",
    "    return tokens"
   ]
  },
  {
   "cell_type": "code",
   "execution_count": 7,
   "metadata": {},
   "outputs": [
    {
     "data": {
      "text/plain": [
       "0    [privacy, policy, last, modified, december, 18...\n",
       "1    [last, modified, june, 24, 2013, view, archive...\n",
       "2    [data, policythis, policy, describes, the, inf...\n",
       "3    [reddit, privacy, policyeffective, june, 8, 20...\n",
       "4    [amazon, privacy, noticelast, updated, august,...\n",
       "Name: tokens, dtype: object"
      ]
     },
     "execution_count": 7,
     "metadata": {},
     "output_type": "execute_result"
    }
   ],
   "source": [
    "web_info_df['tokens'] = web_info_df['Privacy_policy'].apply(tokenizer)\n",
    "web_info_df['tokens'].head()"
   ]
  },
  {
   "cell_type": "code",
   "execution_count": 8,
   "metadata": {},
   "outputs": [
    {
     "data": {
      "text/plain": [
       "[('to', 6123),\n",
       " ('and', 5833),\n",
       " ('the', 4952),\n",
       " ('you', 4818),\n",
       " ('your', 4012),\n",
       " ('or', 3710),\n",
       " ('information', 3520),\n",
       " ('of', 3356),\n",
       " ('we', 3235),\n",
       " ('our', 2437)]"
      ]
     },
     "execution_count": 8,
     "metadata": {},
     "output_type": "execute_result"
    }
   ],
   "source": [
    "from collections import Counter\n",
    "\n",
    "word_counts = Counter()\n",
    "\n",
    "web_info_df['tokens'].apply(lambda x: word_counts.update(x))\n",
    "\n",
    "word_counts.most_common(10)"
   ]
  },
  {
   "cell_type": "code",
   "execution_count": 9,
   "metadata": {},
   "outputs": [],
   "source": [
    "def count(docs):\n",
    "\n",
    "        word_counts = Counter()\n",
    "        appears_in = Counter()\n",
    "        \n",
    "        total_docs = len(docs)\n",
    "\n",
    "        for doc in docs:\n",
    "            word_counts.update(doc)\n",
    "            appears_in.update(set(doc))\n",
    "\n",
    "        temp = zip(word_counts.keys(), word_counts.values())\n",
    "        \n",
    "        wc = pd.DataFrame(temp, columns = ['word', 'count'])\n",
    "\n",
    "        wc['rank'] = wc['count'].rank(method='first', ascending=False)\n",
    "        total = wc['count'].sum()\n",
    "\n",
    "        wc['pct_total'] = wc['count'].apply(lambda x: x / total)\n",
    "        \n",
    "        wc = wc.sort_values(by='rank')\n",
    "        wc['cul_pct_total'] = wc['pct_total'].cumsum()\n",
    "\n",
    "        t2 = zip(appears_in.keys(), appears_in.values())\n",
    "        ac = pd.DataFrame(t2, columns=['word', 'appears_in'])\n",
    "        wc = ac.merge(wc, on='word')\n",
    "\n",
    "        wc['appears_in_pct'] = wc['appears_in'].apply(lambda x: x / total_docs)\n",
    "        \n",
    "        return wc.sort_values(by='rank')"
   ]
  },
  {
   "cell_type": "code",
   "execution_count": 10,
   "metadata": {},
   "outputs": [
    {
     "data": {
      "text/html": [
       "<div>\n",
       "<style scoped>\n",
       "    .dataframe tbody tr th:only-of-type {\n",
       "        vertical-align: middle;\n",
       "    }\n",
       "\n",
       "    .dataframe tbody tr th {\n",
       "        vertical-align: top;\n",
       "    }\n",
       "\n",
       "    .dataframe thead th {\n",
       "        text-align: right;\n",
       "    }\n",
       "</style>\n",
       "<table border=\"1\" class=\"dataframe\">\n",
       "  <thead>\n",
       "    <tr style=\"text-align: right;\">\n",
       "      <th></th>\n",
       "      <th>word</th>\n",
       "      <th>appears_in</th>\n",
       "      <th>count</th>\n",
       "      <th>rank</th>\n",
       "      <th>pct_total</th>\n",
       "      <th>cul_pct_total</th>\n",
       "      <th>appears_in_pct</th>\n",
       "    </tr>\n",
       "  </thead>\n",
       "  <tbody>\n",
       "    <tr>\n",
       "      <th>299</th>\n",
       "      <td>to</td>\n",
       "      <td>49</td>\n",
       "      <td>6123</td>\n",
       "      <td>1.0</td>\n",
       "      <td>0.037780</td>\n",
       "      <td>0.037780</td>\n",
       "      <td>1.000000</td>\n",
       "    </tr>\n",
       "    <tr>\n",
       "      <th>438</th>\n",
       "      <td>and</td>\n",
       "      <td>49</td>\n",
       "      <td>5833</td>\n",
       "      <td>2.0</td>\n",
       "      <td>0.035990</td>\n",
       "      <td>0.073770</td>\n",
       "      <td>1.000000</td>\n",
       "    </tr>\n",
       "    <tr>\n",
       "      <th>27</th>\n",
       "      <td>the</td>\n",
       "      <td>49</td>\n",
       "      <td>4952</td>\n",
       "      <td>3.0</td>\n",
       "      <td>0.030555</td>\n",
       "      <td>0.104325</td>\n",
       "      <td>1.000000</td>\n",
       "    </tr>\n",
       "    <tr>\n",
       "      <th>415</th>\n",
       "      <td>you</td>\n",
       "      <td>48</td>\n",
       "      <td>4818</td>\n",
       "      <td>4.0</td>\n",
       "      <td>0.029728</td>\n",
       "      <td>0.134052</td>\n",
       "      <td>0.979592</td>\n",
       "    </tr>\n",
       "    <tr>\n",
       "      <th>464</th>\n",
       "      <td>your</td>\n",
       "      <td>48</td>\n",
       "      <td>4012</td>\n",
       "      <td>5.0</td>\n",
       "      <td>0.024755</td>\n",
       "      <td>0.158807</td>\n",
       "      <td>0.979592</td>\n",
       "    </tr>\n",
       "  </tbody>\n",
       "</table>\n",
       "</div>"
      ],
      "text/plain": [
       "     word  appears_in  count  rank  pct_total  cul_pct_total  appears_in_pct\n",
       "299    to          49   6123   1.0   0.037780       0.037780        1.000000\n",
       "438   and          49   5833   2.0   0.035990       0.073770        1.000000\n",
       "27    the          49   4952   3.0   0.030555       0.104325        1.000000\n",
       "415   you          48   4818   4.0   0.029728       0.134052        0.979592\n",
       "464  your          48   4012   5.0   0.024755       0.158807        0.979592"
      ]
     },
     "execution_count": 10,
     "metadata": {},
     "output_type": "execute_result"
    }
   ],
   "source": [
    "wc = count(web_info_df['tokens'])\n",
    "wc.head()"
   ]
  },
  {
   "cell_type": "code",
   "execution_count": 11,
   "metadata": {},
   "outputs": [
    {
     "data": {
      "image/png": "[encoded data removed]",
      "text/plain": [
       "<Figure size 432x288 with 1 Axes>"
      ]
     },
     "metadata": {
      "needs_background": "light"
     },
     "output_type": "display_data"
    }
   ],
   "source": [
    "import squarify\n",
    "\n",
    "wc_top20 = wc[wc['rank'] <= 20]\n",
    "squarify.plot(sizes=wc_top20['pct_total'], label=wc_top20['word'], alpha=.8 )\n",
    "plt.axis('off')\n",
    "plt.show()"
   ]
  },
  {
   "cell_type": "code",
   "execution_count": 12,
   "metadata": {},
   "outputs": [
    {
     "name": "stderr",
     "output_type": "stream",
     "text": [
      "/Users/ljohnson/anaconda3/lib/python3.7/site-packages/thinc/check.py:4: DeprecationWarning: Using or importing the ABCs from 'collections' instead of from 'collections.abc' is deprecated, and in 3.8 it will stop working\n",
      "  from collections import Sequence, Sized, Iterable, Callable\n",
      "/Users/ljohnson/anaconda3/lib/python3.7/site-packages/thinc/check.py:4: DeprecationWarning: Using or importing the ABCs from 'collections' instead of from 'collections.abc' is deprecated, and in 3.8 it will stop working\n",
      "  from collections import Sequence, Sized, Iterable, Callable\n"
     ]
    },
    {
     "data": {
      "image/png": "[encoded data removed]",
      "text/plain": [
       "<Figure size 432x288 with 1 Axes>"
      ]
     },
     "metadata": {
      "needs_background": "light"
     },
     "output_type": "display_data"
    }
   ],
   "source": [
    "# omitting stop words\n",
    "import spacy\n",
    "from spacy.tokenizer import Tokenizer\n",
    "\n",
    "import en_core_web_sm\n",
    "nlp = en_core_web_sm.load()\n",
    "\n",
    "STOP_WORDS = nlp.Defaults.stop_words.union(['\\n', '\\n \\n', '\\n\\n'])\n",
    "\n",
    "# Tokenizer\n",
    "tokenizer = Tokenizer(nlp.vocab)\n",
    "tokens = []\n",
    "\n",
    "\"\"\" Update those tokens \"\"\"\n",
    "for doc in tokenizer.pipe(web_info_df['Privacy_policy'], batch_size=500):\n",
    "    doc_tokens = []\n",
    "    for token in doc:\n",
    "        if (token.is_stop == False) and (token.is_punct == False):\n",
    "            doc_tokens.append(token.text.lower())\n",
    "    tokens.append(doc_tokens)        \n",
    "    \n",
    "web_info_df['tokens'] = tokens\n",
    "wc = count(web_info_df['tokens'])\n",
    "\n",
    "wc_top20 = wc[wc['rank'] <= 20]\n",
    "\n",
    "squarify.plot(sizes=wc_top20['pct_total'], label=wc_top20['word'], alpha=.8 )\n",
    "plt.axis('off')\n",
    "plt.show()"
   ]
  },
  {
   "cell_type": "code",
   "execution_count": 13,
   "metadata": {},
   "outputs": [
    {
     "data": {
      "text/html": [
       "<div>\n",
       "<style scoped>\n",
       "    .dataframe tbody tr th:only-of-type {\n",
       "        vertical-align: middle;\n",
       "    }\n",
       "\n",
       "    .dataframe tbody tr th {\n",
       "        vertical-align: top;\n",
       "    }\n",
       "\n",
       "    .dataframe thead th {\n",
       "        text-align: right;\n",
       "    }\n",
       "</style>\n",
       "<table border=\"1\" class=\"dataframe\">\n",
       "  <thead>\n",
       "    <tr style=\"text-align: right;\">\n",
       "      <th></th>\n",
       "      <th>word</th>\n",
       "      <th>appears_in</th>\n",
       "      <th>count</th>\n",
       "      <th>rank</th>\n",
       "      <th>pct_total</th>\n",
       "      <th>cul_pct_total</th>\n",
       "      <th>appears_in_pct</th>\n",
       "    </tr>\n",
       "  </thead>\n",
       "  <tbody>\n",
       "    <tr>\n",
       "      <th>67</th>\n",
       "      <td>information</td>\n",
       "      <td>49</td>\n",
       "      <td>3172</td>\n",
       "      <td>1.0</td>\n",
       "      <td>0.034666</td>\n",
       "      <td>0.034666</td>\n",
       "      <td>1.000000</td>\n",
       "    </tr>\n",
       "    <tr>\n",
       "      <th>948</th>\n",
       "      <td>\\n</td>\n",
       "      <td>47</td>\n",
       "      <td>2929</td>\n",
       "      <td>2.0</td>\n",
       "      <td>0.032011</td>\n",
       "      <td>0.066677</td>\n",
       "      <td>0.959184</td>\n",
       "    </tr>\n",
       "    <tr>\n",
       "      <th>946</th>\n",
       "      <td>\\n\\n</td>\n",
       "      <td>45</td>\n",
       "      <td>1975</td>\n",
       "      <td>3.0</td>\n",
       "      <td>0.021584</td>\n",
       "      <td>0.088261</td>\n",
       "      <td>0.918367</td>\n",
       "    </tr>\n",
       "    <tr>\n",
       "      <th>56</th>\n",
       "      <td>use</td>\n",
       "      <td>49</td>\n",
       "      <td>1569</td>\n",
       "      <td>4.0</td>\n",
       "      <td>0.017147</td>\n",
       "      <td>0.105409</td>\n",
       "      <td>1.000000</td>\n",
       "    </tr>\n",
       "    <tr>\n",
       "      <th>13</th>\n",
       "      <td>data</td>\n",
       "      <td>47</td>\n",
       "      <td>1435</td>\n",
       "      <td>5.0</td>\n",
       "      <td>0.015683</td>\n",
       "      <td>0.121092</td>\n",
       "      <td>0.959184</td>\n",
       "    </tr>\n",
       "    <tr>\n",
       "      <th>146</th>\n",
       "      <td>personal</td>\n",
       "      <td>46</td>\n",
       "      <td>1329</td>\n",
       "      <td>6.0</td>\n",
       "      <td>0.014524</td>\n",
       "      <td>0.135616</td>\n",
       "      <td>0.938776</td>\n",
       "    </tr>\n",
       "    <tr>\n",
       "      <th>432</th>\n",
       "      <td>privacy</td>\n",
       "      <td>48</td>\n",
       "      <td>932</td>\n",
       "      <td>7.0</td>\n",
       "      <td>0.010186</td>\n",
       "      <td>0.145802</td>\n",
       "      <td>0.979592</td>\n",
       "    </tr>\n",
       "    <tr>\n",
       "      <th>123</th>\n",
       "      <td>services</td>\n",
       "      <td>47</td>\n",
       "      <td>909</td>\n",
       "      <td>8.0</td>\n",
       "      <td>0.009934</td>\n",
       "      <td>0.155736</td>\n",
       "      <td>0.959184</td>\n",
       "    </tr>\n",
       "    <tr>\n",
       "      <th>816</th>\n",
       "      <td>provide</td>\n",
       "      <td>49</td>\n",
       "      <td>744</td>\n",
       "      <td>9.0</td>\n",
       "      <td>0.008131</td>\n",
       "      <td>0.163867</td>\n",
       "      <td>1.000000</td>\n",
       "    </tr>\n",
       "    <tr>\n",
       "      <th>46</th>\n",
       "      <td>collect</td>\n",
       "      <td>47</td>\n",
       "      <td>598</td>\n",
       "      <td>10.0</td>\n",
       "      <td>0.006535</td>\n",
       "      <td>0.170403</td>\n",
       "      <td>0.959184</td>\n",
       "    </tr>\n",
       "    <tr>\n",
       "      <th>914</th>\n",
       "      <td>account</td>\n",
       "      <td>46</td>\n",
       "      <td>569</td>\n",
       "      <td>11.0</td>\n",
       "      <td>0.006219</td>\n",
       "      <td>0.176621</td>\n",
       "      <td>0.938776</td>\n",
       "    </tr>\n",
       "    <tr>\n",
       "      <th>27</th>\n",
       "      <td>share</td>\n",
       "      <td>45</td>\n",
       "      <td>498</td>\n",
       "      <td>12.0</td>\n",
       "      <td>0.005443</td>\n",
       "      <td>0.182064</td>\n",
       "      <td>0.918367</td>\n",
       "    </tr>\n",
       "    <tr>\n",
       "      <th>547</th>\n",
       "      <td>including</td>\n",
       "      <td>45</td>\n",
       "      <td>452</td>\n",
       "      <td>13.0</td>\n",
       "      <td>0.004940</td>\n",
       "      <td>0.187003</td>\n",
       "      <td>0.918367</td>\n",
       "    </tr>\n",
       "    <tr>\n",
       "      <th>911</th>\n",
       "      <td>example,</td>\n",
       "      <td>42</td>\n",
       "      <td>442</td>\n",
       "      <td>14.0</td>\n",
       "      <td>0.004831</td>\n",
       "      <td>0.191834</td>\n",
       "      <td>0.857143</td>\n",
       "    </tr>\n",
       "    <tr>\n",
       "      <th>804</th>\n",
       "      <td>service</td>\n",
       "      <td>47</td>\n",
       "      <td>429</td>\n",
       "      <td>15.0</td>\n",
       "      <td>0.004688</td>\n",
       "      <td>0.196522</td>\n",
       "      <td>0.959184</td>\n",
       "    </tr>\n",
       "    <tr>\n",
       "      <th>565</th>\n",
       "      <td>access</td>\n",
       "      <td>48</td>\n",
       "      <td>409</td>\n",
       "      <td>16.0</td>\n",
       "      <td>0.004470</td>\n",
       "      <td>0.200992</td>\n",
       "      <td>0.979592</td>\n",
       "    </tr>\n",
       "    <tr>\n",
       "      <th>52</th>\n",
       "      <td>cookies</td>\n",
       "      <td>44</td>\n",
       "      <td>409</td>\n",
       "      <td>17.0</td>\n",
       "      <td>0.004470</td>\n",
       "      <td>0.205462</td>\n",
       "      <td>0.897959</td>\n",
       "    </tr>\n",
       "    <tr>\n",
       "      <th>692</th>\n",
       "      <td>services,</td>\n",
       "      <td>42</td>\n",
       "      <td>390</td>\n",
       "      <td>18.0</td>\n",
       "      <td>0.004262</td>\n",
       "      <td>0.209724</td>\n",
       "      <td>0.857143</td>\n",
       "    </tr>\n",
       "    <tr>\n",
       "      <th>237</th>\n",
       "      <td>content</td>\n",
       "      <td>42</td>\n",
       "      <td>380</td>\n",
       "      <td>19.0</td>\n",
       "      <td>0.004153</td>\n",
       "      <td>0.213877</td>\n",
       "      <td>0.857143</td>\n",
       "    </tr>\n",
       "    <tr>\n",
       "      <th>23</th>\n",
       "      <td>advertising</td>\n",
       "      <td>42</td>\n",
       "      <td>357</td>\n",
       "      <td>20.0</td>\n",
       "      <td>0.003902</td>\n",
       "      <td>0.217779</td>\n",
       "      <td>0.857143</td>\n",
       "    </tr>\n",
       "  </tbody>\n",
       "</table>\n",
       "</div>"
      ],
      "text/plain": [
       "            word  appears_in  count  rank  pct_total  cul_pct_total  \\\n",
       "67   information          49   3172   1.0   0.034666       0.034666   \n",
       "948           \\n          47   2929   2.0   0.032011       0.066677   \n",
       "946         \\n\\n          45   1975   3.0   0.021584       0.088261   \n",
       "56           use          49   1569   4.0   0.017147       0.105409   \n",
       "13          data          47   1435   5.0   0.015683       0.121092   \n",
       "146     personal          46   1329   6.0   0.014524       0.135616   \n",
       "432      privacy          48    932   7.0   0.010186       0.145802   \n",
       "123     services          47    909   8.0   0.009934       0.155736   \n",
       "816      provide          49    744   9.0   0.008131       0.163867   \n",
       "46       collect          47    598  10.0   0.006535       0.170403   \n",
       "914      account          46    569  11.0   0.006219       0.176621   \n",
       "27         share          45    498  12.0   0.005443       0.182064   \n",
       "547    including          45    452  13.0   0.004940       0.187003   \n",
       "911     example,          42    442  14.0   0.004831       0.191834   \n",
       "804      service          47    429  15.0   0.004688       0.196522   \n",
       "565       access          48    409  16.0   0.004470       0.200992   \n",
       "52       cookies          44    409  17.0   0.004470       0.205462   \n",
       "692    services,          42    390  18.0   0.004262       0.209724   \n",
       "237      content          42    380  19.0   0.004153       0.213877   \n",
       "23   advertising          42    357  20.0   0.003902       0.217779   \n",
       "\n",
       "     appears_in_pct  \n",
       "67         1.000000  \n",
       "948        0.959184  \n",
       "946        0.918367  \n",
       "56         1.000000  \n",
       "13         0.959184  \n",
       "146        0.938776  \n",
       "432        0.979592  \n",
       "123        0.959184  \n",
       "816        1.000000  \n",
       "46         0.959184  \n",
       "914        0.938776  \n",
       "27         0.918367  \n",
       "547        0.918367  \n",
       "911        0.857143  \n",
       "804        0.959184  \n",
       "565        0.979592  \n",
       "52         0.897959  \n",
       "692        0.857143  \n",
       "237        0.857143  \n",
       "23         0.857143  "
      ]
     },
     "execution_count": 13,
     "metadata": {},
     "output_type": "execute_result"
    }
   ],
   "source": [
    "wc_top20"
   ]
  },
  {
   "cell_type": "markdown",
   "metadata": {},
   "source": [
    "# KNN Model to Predict Trustworthieness based on Privacy Policy"
   ]
  },
  {
   "cell_type": "code",
   "execution_count": 14,
   "metadata": {},
   "outputs": [
    {
     "data": {
      "text/plain": [
       "Excellent         46\n",
       "Poor               1\n",
       "Unsatisfactory     1\n",
       "Good               1\n",
       "Name: Privacy, dtype: int64"
      ]
     },
     "execution_count": 14,
     "metadata": {},
     "output_type": "execute_result"
    }
   ],
   "source": [
    "web_info_df[\"Privacy\"].value_counts()"
   ]
  },
  {
   "cell_type": "code",
   "execution_count": 15,
   "metadata": {},
   "outputs": [
    {
     "data": {
      "text/plain": [
       "1    46\n",
       "0     3\n",
       "Name: Privacy, dtype: int64"
      ]
     },
     "execution_count": 15,
     "metadata": {},
     "output_type": "execute_result"
    }
   ],
   "source": [
    "# target for model will be privacy column\n",
    "# change to 1/0 (excellent/not excellent)\n",
    "\n",
    "web_info_df[\"Privacy\"] = web_info_df[\"Privacy\"].replace({\"Excellent\": 1, \"Good\": 0, \"Unsatisfactory\": 0, \"Poor\": 0})\n",
    "web_info_df[\"Privacy\"].value_counts()"
   ]
  },
  {
   "cell_type": "code",
   "execution_count": 16,
   "metadata": {},
   "outputs": [],
   "source": [
    "# getting privacy policy text tokenized\n",
    "\n",
    "docs = web_info_df[\"Privacy_policy\"].values.tolist()"
   ]
  },
  {
   "cell_type": "code",
   "execution_count": 17,
   "metadata": {},
   "outputs": [
    {
     "name": "stderr",
     "output_type": "stream",
     "text": [
      "/Users/ljohnson/anaconda3/lib/python3.7/site-packages/scipy/sparse/sparsetools.py:21: DeprecationWarning: `scipy.sparse.sparsetools` is deprecated!\n",
      "scipy.sparse.sparsetools is a private module for scipy.sparse, and should not be used.\n",
      "  _deprecated()\n"
     ]
    }
   ],
   "source": [
    "import gensim\n",
    "from gensim.utils import simple_preprocess\n",
    "\n",
    "def tokenize(doc):\n",
    "    for doc in docs:\n",
    "        yield(simple_preprocess(str(doc), deacc=True))"
   ]
  },
  {
   "cell_type": "code",
   "execution_count": 18,
   "metadata": {},
   "outputs": [
    {
     "data": {
      "text/plain": [
       "['privacy',\n",
       " 'policy',\n",
       " 'last',\n",
       " 'modified',\n",
       " 'december',\n",
       " 'view',\n",
       " 'archived',\n",
       " 'versions',\n",
       " 'the',\n",
       " 'hyperlinked']"
      ]
     },
     "execution_count": 18,
     "metadata": {},
     "output_type": "execute_result"
    }
   ],
   "source": [
    "data_words = list(tokenize(docs))\n",
    "data_words[0][:10]"
   ]
  },
  {
   "cell_type": "code",
   "execution_count": 19,
   "metadata": {},
   "outputs": [
    {
     "name": "stderr",
     "output_type": "stream",
     "text": [
      "/Users/ljohnson/anaconda3/lib/python3.7/site-packages/nltk/decorators.py:68: DeprecationWarning: `formatargspec` is deprecated since Python 3.5. Use `signature` and the `Signature` object directly\n",
      "  regargs, varargs, varkwargs, defaults, formatvalue=lambda value: \"\"\n"
     ]
    }
   ],
   "source": [
    "from nltk.corpus import stopwords\n",
    "\n",
    "stop_words = stopwords.words('english')\n",
    "\n",
    "def remove_stopwords(texts):\n",
    "    return [[word for word in simple_preprocess(str(doc)) if word not in stop_words] for doc in texts]\n",
    "\n",
    "data_words = remove_stopwords(data_words)"
   ]
  },
  {
   "cell_type": "code",
   "execution_count": 20,
   "metadata": {},
   "outputs": [
    {
     "name": "stderr",
     "output_type": "stream",
     "text": [
      "/Users/ljohnson/anaconda3/lib/python3.7/site-packages/sklearn/feature_extraction/text.py:301: UserWarning: Your stop_words may be inconsistent with your preprocessing. Tokenizing the stop words generated tokens ['b', 'c', 'd', 'e', 'f', 'g', 'h', 'k', 'l', 'm', 'n', 'o', 'p', 'r', 's', 't', 'u', 'v', 'w', 'x', 'y'] not in stop_words.\n",
      "  'stop_words.' % sorted(inconsistent))\n"
     ]
    },
    {
     "data": {
      "text/html": [
       "<div>\n",
       "<style scoped>\n",
       "    .dataframe tbody tr th:only-of-type {\n",
       "        vertical-align: middle;\n",
       "    }\n",
       "\n",
       "    .dataframe tbody tr th {\n",
       "        vertical-align: top;\n",
       "    }\n",
       "\n",
       "    .dataframe thead th {\n",
       "        text-align: right;\n",
       "    }\n",
       "</style>\n",
       "<table border=\"1\" class=\"dataframe\">\n",
       "  <thead>\n",
       "    <tr style=\"text-align: right;\">\n",
       "      <th></th>\n",
       "      <th>abandoning</th>\n",
       "      <th>abbot</th>\n",
       "      <th>abide</th>\n",
       "      <th>abides</th>\n",
       "      <th>ability</th>\n",
       "      <th>able</th>\n",
       "      <th>abn</th>\n",
       "      <th>aboutads</th>\n",
       "      <th>aboutcookies</th>\n",
       "      <th>absolute</th>\n",
       "      <th>...</th>\n",
       "      <th>youradchoices</th>\n",
       "      <th>youtube</th>\n",
       "      <th>yume</th>\n",
       "      <th>zealand</th>\n",
       "      <th>zillow</th>\n",
       "      <th>zip</th>\n",
       "      <th>zone</th>\n",
       "      <th>zoosk</th>\n",
       "      <th>zumobi</th>\n",
       "      <th>zune</th>\n",
       "    </tr>\n",
       "  </thead>\n",
       "  <tbody>\n",
       "    <tr>\n",
       "      <th>0</th>\n",
       "      <td>0.0</td>\n",
       "      <td>0.0</td>\n",
       "      <td>0.0</td>\n",
       "      <td>0.0</td>\n",
       "      <td>0.006094</td>\n",
       "      <td>0.008222</td>\n",
       "      <td>0.0</td>\n",
       "      <td>0.0</td>\n",
       "      <td>0.0</td>\n",
       "      <td>0.0</td>\n",
       "      <td>...</td>\n",
       "      <td>0.0</td>\n",
       "      <td>0.084656</td>\n",
       "      <td>0.0</td>\n",
       "      <td>0.0</td>\n",
       "      <td>0.0</td>\n",
       "      <td>0.0</td>\n",
       "      <td>0.000000</td>\n",
       "      <td>0.0</td>\n",
       "      <td>0.0</td>\n",
       "      <td>0.0</td>\n",
       "    </tr>\n",
       "    <tr>\n",
       "      <th>1</th>\n",
       "      <td>0.0</td>\n",
       "      <td>0.0</td>\n",
       "      <td>0.0</td>\n",
       "      <td>0.0</td>\n",
       "      <td>0.011678</td>\n",
       "      <td>0.015757</td>\n",
       "      <td>0.0</td>\n",
       "      <td>0.0</td>\n",
       "      <td>0.0</td>\n",
       "      <td>0.0</td>\n",
       "      <td>...</td>\n",
       "      <td>0.0</td>\n",
       "      <td>0.000000</td>\n",
       "      <td>0.0</td>\n",
       "      <td>0.0</td>\n",
       "      <td>0.0</td>\n",
       "      <td>0.0</td>\n",
       "      <td>0.000000</td>\n",
       "      <td>0.0</td>\n",
       "      <td>0.0</td>\n",
       "      <td>0.0</td>\n",
       "    </tr>\n",
       "    <tr>\n",
       "      <th>2</th>\n",
       "      <td>0.0</td>\n",
       "      <td>0.0</td>\n",
       "      <td>0.0</td>\n",
       "      <td>0.0</td>\n",
       "      <td>0.006170</td>\n",
       "      <td>0.008325</td>\n",
       "      <td>0.0</td>\n",
       "      <td>0.0</td>\n",
       "      <td>0.0</td>\n",
       "      <td>0.0</td>\n",
       "      <td>...</td>\n",
       "      <td>0.0</td>\n",
       "      <td>0.000000</td>\n",
       "      <td>0.0</td>\n",
       "      <td>0.0</td>\n",
       "      <td>0.0</td>\n",
       "      <td>0.0</td>\n",
       "      <td>0.009838</td>\n",
       "      <td>0.0</td>\n",
       "      <td>0.0</td>\n",
       "      <td>0.0</td>\n",
       "    </tr>\n",
       "    <tr>\n",
       "      <th>3</th>\n",
       "      <td>0.0</td>\n",
       "      <td>0.0</td>\n",
       "      <td>0.0</td>\n",
       "      <td>0.0</td>\n",
       "      <td>0.000000</td>\n",
       "      <td>0.021480</td>\n",
       "      <td>0.0</td>\n",
       "      <td>0.0</td>\n",
       "      <td>0.0</td>\n",
       "      <td>0.0</td>\n",
       "      <td>...</td>\n",
       "      <td>0.0</td>\n",
       "      <td>0.000000</td>\n",
       "      <td>0.0</td>\n",
       "      <td>0.0</td>\n",
       "      <td>0.0</td>\n",
       "      <td>0.0</td>\n",
       "      <td>0.000000</td>\n",
       "      <td>0.0</td>\n",
       "      <td>0.0</td>\n",
       "      <td>0.0</td>\n",
       "    </tr>\n",
       "    <tr>\n",
       "      <th>4</th>\n",
       "      <td>0.0</td>\n",
       "      <td>0.0</td>\n",
       "      <td>0.0</td>\n",
       "      <td>0.0</td>\n",
       "      <td>0.008143</td>\n",
       "      <td>0.016479</td>\n",
       "      <td>0.0</td>\n",
       "      <td>0.0</td>\n",
       "      <td>0.0</td>\n",
       "      <td>0.0</td>\n",
       "      <td>...</td>\n",
       "      <td>0.0</td>\n",
       "      <td>0.000000</td>\n",
       "      <td>0.0</td>\n",
       "      <td>0.0</td>\n",
       "      <td>0.0</td>\n",
       "      <td>0.0</td>\n",
       "      <td>0.012983</td>\n",
       "      <td>0.0</td>\n",
       "      <td>0.0</td>\n",
       "      <td>0.0</td>\n",
       "    </tr>\n",
       "  </tbody>\n",
       "</table>\n",
       "<p>5 rows × 4443 columns</p>\n",
       "</div>"
      ],
      "text/plain": [
       "   abandoning  abbot  abide  abides   ability      able  abn  aboutads  \\\n",
       "0         0.0    0.0    0.0     0.0  0.006094  0.008222  0.0       0.0   \n",
       "1         0.0    0.0    0.0     0.0  0.011678  0.015757  0.0       0.0   \n",
       "2         0.0    0.0    0.0     0.0  0.006170  0.008325  0.0       0.0   \n",
       "3         0.0    0.0    0.0     0.0  0.000000  0.021480  0.0       0.0   \n",
       "4         0.0    0.0    0.0     0.0  0.008143  0.016479  0.0       0.0   \n",
       "\n",
       "   aboutcookies  absolute  ...  youradchoices   youtube  yume  zealand  \\\n",
       "0           0.0       0.0  ...            0.0  0.084656   0.0      0.0   \n",
       "1           0.0       0.0  ...            0.0  0.000000   0.0      0.0   \n",
       "2           0.0       0.0  ...            0.0  0.000000   0.0      0.0   \n",
       "3           0.0       0.0  ...            0.0  0.000000   0.0      0.0   \n",
       "4           0.0       0.0  ...            0.0  0.000000   0.0      0.0   \n",
       "\n",
       "   zillow  zip      zone  zoosk  zumobi  zune  \n",
       "0     0.0  0.0  0.000000    0.0     0.0   0.0  \n",
       "1     0.0  0.0  0.000000    0.0     0.0   0.0  \n",
       "2     0.0  0.0  0.009838    0.0     0.0   0.0  \n",
       "3     0.0  0.0  0.000000    0.0     0.0   0.0  \n",
       "4     0.0  0.0  0.012983    0.0     0.0   0.0  \n",
       "\n",
       "[5 rows x 4443 columns]"
      ]
     },
     "execution_count": 20,
     "metadata": {},
     "output_type": "execute_result"
    }
   ],
   "source": [
    "from sklearn.feature_extraction.text import TfidfVectorizer\n",
    "\n",
    "tfidf = TfidfVectorizer(stop_words='english', tokenizer=lambda doc: doc, lowercase=False)\n",
    "\n",
    "dtm = tfidf.fit_transform(data_words)\n",
    "df = pd.DataFrame(dtm.todense(), columns = tfidf.get_feature_names())\n",
    "df.head()"
   ]
  },
  {
   "cell_type": "code",
   "execution_count": 21,
   "metadata": {},
   "outputs": [
    {
     "data": {
      "text/plain": [
       "NearestNeighbors(algorithm='ball_tree', leaf_size=30, metric='minkowski',\n",
       "         metric_params=None, n_jobs=None, n_neighbors=4, p=2, radius=1.0)"
      ]
     },
     "execution_count": 21,
     "metadata": {},
     "output_type": "execute_result"
    }
   ],
   "source": [
    "from sklearn.neighbors import NearestNeighbors\n",
    "\n",
    "nn = NearestNeighbors(n_neighbors=4, algorithm='ball_tree')\n",
    "\n",
    "nn.fit(dtm.todense())"
   ]
  },
  {
   "cell_type": "code",
   "execution_count": 22,
   "metadata": {},
   "outputs": [],
   "source": [
    "sample_policy = [\"We will sell your data to third parties. Nothing is secure. We do not care about your privacy\"]"
   ]
  },
  {
   "cell_type": "code",
   "execution_count": 23,
   "metadata": {},
   "outputs": [
    {
     "data": {
      "text/plain": [
       "(array([[1., 1., 1., 1.]]), array([[34, 27, 12, 31]]))"
      ]
     },
     "execution_count": 23,
     "metadata": {},
     "output_type": "execute_result"
    }
   ],
   "source": [
    "new = tfidf.transform(sample_policy)\n",
    "\n",
    "nn.kneighbors(new.todense())"
   ]
  },
  {
   "cell_type": "code",
   "execution_count": 24,
   "metadata": {},
   "outputs": [
    {
     "name": "stdout",
     "output_type": "stream",
     "text": [
      "Fitting 3 folds for each of 9 candidates, totalling 27 fits\n"
     ]
    },
    {
     "name": "stderr",
     "output_type": "stream",
     "text": [
      "[Parallel(n_jobs=-1)]: Using backend LokyBackend with 4 concurrent workers.\n",
      "[Parallel(n_jobs=-1)]: Done  27 out of  27 | elapsed:   10.5s finished\n",
      "/Users/ljohnson/anaconda3/lib/python3.7/site-packages/sklearn/feature_extraction/text.py:301: UserWarning: Your stop_words may be inconsistent with your preprocessing. Tokenizing the stop words generated tokens ['b', 'c', 'd', 'e', 'f', 'g', 'h', 'k', 'l', 'm', 'n', 'o', 'p', 'r', 's', 't', 'u', 'v', 'w', 'x', 'y'] not in stop_words.\n",
      "  'stop_words.' % sorted(inconsistent))\n",
      "/Users/ljohnson/anaconda3/lib/python3.7/site-packages/sklearn/linear_model/stochastic_gradient.py:183: FutureWarning: max_iter and tol parameters have been added in SGDClassifier in 0.19. If max_iter is set but tol is left unset, the default value for tol in 0.19 and 0.20 will be None (which is equivalent to -infinity, so it has no effect) but will change in 0.21 to 1e-3. Specify tol to silence this warning.\n",
      "  FutureWarning)\n"
     ]
    },
    {
     "data": {
      "text/plain": [
       "GridSearchCV(cv=3, error_score='raise-deprecating',\n",
       "       estimator=Pipeline(memory=None,\n",
       "     steps=[('vect', TfidfVectorizer(analyzer='word', binary=False, decode_error='strict',\n",
       "        dtype=<class 'numpy.float64'>, encoding='utf-8', input='content',\n",
       "        lowercase=False, max_df=1.0, max_features=None, min_df=1,\n",
       "        ngram_range=(1, 1), norm='l2', preprocessor=None, smooth_idf=True,...m_state=None, shuffle=True, tol=None,\n",
       "       validation_fraction=0.1, verbose=0, warm_start=False))]),\n",
       "       fit_params=None, iid='warn', n_jobs=-1,\n",
       "       param_grid={'vect__max_df': (0.5, 0.75, 1.0), 'clf__max_iter': (20, 10, 100)},\n",
       "       pre_dispatch='2*n_jobs', refit=True, return_train_score='warn',\n",
       "       scoring=None, verbose=1)"
      ]
     },
     "execution_count": 24,
     "metadata": {},
     "output_type": "execute_result"
    }
   ],
   "source": [
    "from sklearn.pipeline import Pipeline\n",
    "from sklearn.linear_model import SGDClassifier\n",
    "from sklearn.model_selection import GridSearchCV\n",
    "\n",
    "vect = TfidfVectorizer(stop_words='english', tokenizer=lambda doc: doc, lowercase=False)\n",
    "sgdc = SGDClassifier()\n",
    "\n",
    "pipe = Pipeline([('vect', vect), ('clf', sgdc)])\n",
    "\n",
    "parameters = {\n",
    "    'vect__max_df': (0.5, 0.75, 1.0),\n",
    "    'clf__max_iter':(20, 10, 100)\n",
    "}\n",
    "\n",
    "grid_search = GridSearchCV(pipe, parameters, cv=3, n_jobs=-1, verbose=1)\n",
    "\n",
    "grid_search.fit(data_words, web_info_df[\"Privacy\"])"
   ]
  },
  {
   "cell_type": "code",
   "execution_count": 25,
   "metadata": {},
   "outputs": [
    {
     "data": {
      "text/plain": [
       "array([1])"
      ]
     },
     "execution_count": 25,
     "metadata": {},
     "output_type": "execute_result"
    }
   ],
   "source": [
    "y_pred = grid_search.predict(sample_policy)\n",
    "y_pred"
   ]
  },
  {
   "cell_type": "markdown",
   "metadata": {},
   "source": [
    "I have tried multiple attemps, with different hyperparameters, but the results are not consistant. I believe this is due to the sparcity of the data. There are only 50 data points, and only 3 of those fall into the untrustworthy category. I don't believe that is giving my model enough information to predict accurate results.\n",
    "\n",
    "Lots of time has been spent searching for data to supplement this, but I was unable to find anything that is ready-to-go, without needing to spend additional time manually adding privacy policies from specific websites."
   ]
  },
  {
   "cell_type": "markdown",
   "metadata": {},
   "source": [
    "## Further analysis on text within privacy policies - LDA topic modeling"
   ]
  },
  {
   "cell_type": "code",
   "execution_count": 26,
   "metadata": {},
   "outputs": [
    {
     "name": "stdout",
     "output_type": "stream",
     "text": [
      "Requirement already satisfied: pyldavis in /Users/ljohnson/anaconda3/lib/python3.7/site-packages (2.1.2)\n",
      "Requirement already satisfied: wheel>=0.23.0 in /Users/ljohnson/anaconda3/lib/python3.7/site-packages (from pyldavis) (0.33.1)\n",
      "Requirement already satisfied: numexpr in /Users/ljohnson/anaconda3/lib/python3.7/site-packages (from pyldavis) (2.6.9)\n",
      "Requirement already satisfied: joblib>=0.8.4 in /Users/ljohnson/anaconda3/lib/python3.7/site-packages (from pyldavis) (0.8.4)\n",
      "Requirement already satisfied: scipy>=0.18.0 in /Users/ljohnson/anaconda3/lib/python3.7/site-packages (from pyldavis) (1.2.1)\n",
      "Requirement already satisfied: numpy>=1.9.2 in /Users/ljohnson/anaconda3/lib/python3.7/site-packages (from pyldavis) (1.16.2)\n",
      "Requirement already satisfied: jinja2>=2.7.2 in /Users/ljohnson/anaconda3/lib/python3.7/site-packages (from pyldavis) (2.7.2)\n",
      "Requirement already satisfied: pytest in /Users/ljohnson/anaconda3/lib/python3.7/site-packages (from pyldavis) (4.3.1)\n",
      "Requirement already satisfied: future in /Users/ljohnson/anaconda3/lib/python3.7/site-packages (from pyldavis) (0.17.1)\n",
      "Requirement already satisfied: funcy in /Users/ljohnson/anaconda3/lib/python3.7/site-packages (from pyldavis) (1.12)\n",
      "Requirement already satisfied: pandas>=0.17.0 in /Users/ljohnson/anaconda3/lib/python3.7/site-packages (from pyldavis) (0.24.2)\n",
      "Requirement already satisfied: markupsafe in /Users/ljohnson/anaconda3/lib/python3.7/site-packages (from jinja2>=2.7.2->pyldavis) (1.1.1)\n",
      "Requirement already satisfied: py>=1.5.0 in /Users/ljohnson/anaconda3/lib/python3.7/site-packages (from pytest->pyldavis) (1.8.0)\n",
      "Requirement already satisfied: six>=1.10.0 in /Users/ljohnson/anaconda3/lib/python3.7/site-packages (from pytest->pyldavis) (1.12.0)\n",
      "Requirement already satisfied: setuptools in /Users/ljohnson/anaconda3/lib/python3.7/site-packages (from pytest->pyldavis) (40.8.0)\n",
      "Requirement already satisfied: attrs>=17.4.0 in /Users/ljohnson/anaconda3/lib/python3.7/site-packages (from pytest->pyldavis) (19.1.0)\n",
      "Requirement already satisfied: atomicwrites>=1.0 in /Users/ljohnson/anaconda3/lib/python3.7/site-packages (from pytest->pyldavis) (1.3.0)\n",
      "Requirement already satisfied: pluggy>=0.7 in /Users/ljohnson/anaconda3/lib/python3.7/site-packages (from pytest->pyldavis) (0.9.0)\n",
      "Requirement already satisfied: more-itertools>=4.0.0 in /Users/ljohnson/anaconda3/lib/python3.7/site-packages (from pytest->pyldavis) (6.0.0)\n",
      "Requirement already satisfied: pytz>=2011k in /Users/ljohnson/anaconda3/lib/python3.7/site-packages (from pandas>=0.17.0->pyldavis) (2018.9)\n",
      "Requirement already satisfied: python-dateutil>=2.5.0 in /Users/ljohnson/anaconda3/lib/python3.7/site-packages (from pandas>=0.17.0->pyldavis) (2.8.0)\n",
      "Note: you may need to restart the kernel to use updated packages.\n"
     ]
    }
   ],
   "source": [
    "pip install pyldavis"
   ]
  },
  {
   "cell_type": "code",
   "execution_count": 27,
   "metadata": {},
   "outputs": [
    {
     "name": "stdout",
     "output_type": "stream",
     "text": [
      "Requirement already up-to-date: gensim in /Users/ljohnson/anaconda3/lib/python3.7/site-packages (3.8.0)\n",
      "Requirement already satisfied, skipping upgrade: six>=1.5.0 in /Users/ljohnson/anaconda3/lib/python3.7/site-packages (from gensim) (1.12.0)\n",
      "Requirement already satisfied, skipping upgrade: smart-open>=1.7.0 in /Users/ljohnson/anaconda3/lib/python3.7/site-packages (from gensim) (1.8.4)\n",
      "Requirement already satisfied, skipping upgrade: numpy>=1.11.3 in /Users/ljohnson/anaconda3/lib/python3.7/site-packages (from gensim) (1.16.2)\n",
      "Requirement already satisfied, skipping upgrade: scipy>=0.18.1 in /Users/ljohnson/anaconda3/lib/python3.7/site-packages (from gensim) (1.2.1)\n",
      "Requirement already satisfied, skipping upgrade: requests in /Users/ljohnson/anaconda3/lib/python3.7/site-packages (from smart-open>=1.7.0->gensim) (2.21.0)\n",
      "Requirement already satisfied, skipping upgrade: boto3 in /Users/ljohnson/anaconda3/lib/python3.7/site-packages (from smart-open>=1.7.0->gensim) (1.9.187)\n",
      "Requirement already satisfied, skipping upgrade: boto>=2.32 in /Users/ljohnson/anaconda3/lib/python3.7/site-packages (from smart-open>=1.7.0->gensim) (2.49.0)\n",
      "Requirement already satisfied, skipping upgrade: chardet<3.1.0,>=3.0.2 in /Users/ljohnson/anaconda3/lib/python3.7/site-packages (from requests->smart-open>=1.7.0->gensim) (3.0.4)\n",
      "Requirement already satisfied, skipping upgrade: idna<2.9,>=2.5 in /Users/ljohnson/anaconda3/lib/python3.7/site-packages (from requests->smart-open>=1.7.0->gensim) (2.8)\n",
      "Requirement already satisfied, skipping upgrade: certifi>=2017.4.17 in /Users/ljohnson/anaconda3/lib/python3.7/site-packages (from requests->smart-open>=1.7.0->gensim) (2019.3.9)\n",
      "Requirement already satisfied, skipping upgrade: urllib3<1.25,>=1.21.1 in /Users/ljohnson/anaconda3/lib/python3.7/site-packages (from requests->smart-open>=1.7.0->gensim) (1.24.1)\n",
      "Requirement already satisfied, skipping upgrade: botocore<1.13.0,>=1.12.187 in /Users/ljohnson/anaconda3/lib/python3.7/site-packages (from boto3->smart-open>=1.7.0->gensim) (1.12.187)\n",
      "Requirement already satisfied, skipping upgrade: s3transfer<0.3.0,>=0.2.0 in /Users/ljohnson/anaconda3/lib/python3.7/site-packages (from boto3->smart-open>=1.7.0->gensim) (0.2.1)\n",
      "Requirement already satisfied, skipping upgrade: jmespath<1.0.0,>=0.7.1 in /Users/ljohnson/anaconda3/lib/python3.7/site-packages (from boto3->smart-open>=1.7.0->gensim) (0.9.4)\n",
      "Requirement already satisfied, skipping upgrade: docutils>=0.10 in /Users/ljohnson/anaconda3/lib/python3.7/site-packages (from botocore<1.13.0,>=1.12.187->boto3->smart-open>=1.7.0->gensim) (0.14)\n",
      "Requirement already satisfied, skipping upgrade: python-dateutil<3.0.0,>=2.1; python_version >= \"2.7\" in /Users/ljohnson/anaconda3/lib/python3.7/site-packages (from botocore<1.13.0,>=1.12.187->boto3->smart-open>=1.7.0->gensim) (2.8.0)\n",
      "Note: you may need to restart the kernel to use updated packages.\n"
     ]
    }
   ],
   "source": [
    "pip install --upgrade gensim"
   ]
  },
  {
   "cell_type": "code",
   "execution_count": 28,
   "metadata": {},
   "outputs": [
    {
     "name": "stdout",
     "output_type": "stream",
     "text": [
      "Requirement already up-to-date: pyldavis in /Users/ljohnson/anaconda3/lib/python3.7/site-packages (2.1.2)\n",
      "Requirement already satisfied, skipping upgrade: jinja2>=2.7.2 in /Users/ljohnson/anaconda3/lib/python3.7/site-packages (from pyldavis) (2.7.2)\n",
      "Requirement already satisfied, skipping upgrade: numexpr in /Users/ljohnson/anaconda3/lib/python3.7/site-packages (from pyldavis) (2.6.9)\n",
      "Requirement already satisfied, skipping upgrade: funcy in /Users/ljohnson/anaconda3/lib/python3.7/site-packages (from pyldavis) (1.12)\n",
      "Requirement already satisfied, skipping upgrade: pandas>=0.17.0 in /Users/ljohnson/anaconda3/lib/python3.7/site-packages (from pyldavis) (0.24.2)\n",
      "Requirement already satisfied, skipping upgrade: scipy>=0.18.0 in /Users/ljohnson/anaconda3/lib/python3.7/site-packages (from pyldavis) (1.2.1)\n",
      "Requirement already satisfied, skipping upgrade: joblib>=0.8.4 in /Users/ljohnson/anaconda3/lib/python3.7/site-packages (from pyldavis) (0.8.4)\n",
      "Requirement already satisfied, skipping upgrade: future in /Users/ljohnson/anaconda3/lib/python3.7/site-packages (from pyldavis) (0.17.1)\n",
      "Requirement already satisfied, skipping upgrade: numpy>=1.9.2 in /Users/ljohnson/anaconda3/lib/python3.7/site-packages (from pyldavis) (1.16.2)\n",
      "Requirement already satisfied, skipping upgrade: pytest in /Users/ljohnson/anaconda3/lib/python3.7/site-packages (from pyldavis) (4.3.1)\n",
      "Requirement already satisfied, skipping upgrade: wheel>=0.23.0 in /Users/ljohnson/anaconda3/lib/python3.7/site-packages (from pyldavis) (0.33.1)\n",
      "Requirement already satisfied, skipping upgrade: markupsafe in /Users/ljohnson/anaconda3/lib/python3.7/site-packages (from jinja2>=2.7.2->pyldavis) (1.1.1)\n",
      "Requirement already satisfied, skipping upgrade: pytz>=2011k in /Users/ljohnson/anaconda3/lib/python3.7/site-packages (from pandas>=0.17.0->pyldavis) (2018.9)\n",
      "Requirement already satisfied, skipping upgrade: python-dateutil>=2.5.0 in /Users/ljohnson/anaconda3/lib/python3.7/site-packages (from pandas>=0.17.0->pyldavis) (2.8.0)\n",
      "Requirement already satisfied, skipping upgrade: py>=1.5.0 in /Users/ljohnson/anaconda3/lib/python3.7/site-packages (from pytest->pyldavis) (1.8.0)\n",
      "Requirement already satisfied, skipping upgrade: six>=1.10.0 in /Users/ljohnson/anaconda3/lib/python3.7/site-packages (from pytest->pyldavis) (1.12.0)\n",
      "Requirement already satisfied, skipping upgrade: setuptools in /Users/ljohnson/anaconda3/lib/python3.7/site-packages (from pytest->pyldavis) (40.8.0)\n",
      "Requirement already satisfied, skipping upgrade: attrs>=17.4.0 in /Users/ljohnson/anaconda3/lib/python3.7/site-packages (from pytest->pyldavis) (19.1.0)\n",
      "Requirement already satisfied, skipping upgrade: atomicwrites>=1.0 in /Users/ljohnson/anaconda3/lib/python3.7/site-packages (from pytest->pyldavis) (1.3.0)\n",
      "Requirement already satisfied, skipping upgrade: pluggy>=0.7 in /Users/ljohnson/anaconda3/lib/python3.7/site-packages (from pytest->pyldavis) (0.9.0)\n",
      "Requirement already satisfied, skipping upgrade: more-itertools>=4.0.0 in /Users/ljohnson/anaconda3/lib/python3.7/site-packages (from pytest->pyldavis) (6.0.0)\n",
      "Note: you may need to restart the kernel to use updated packages.\n"
     ]
    }
   ],
   "source": [
    "pip install --upgrade pyldavis"
   ]
  },
  {
   "cell_type": "code",
   "execution_count": 29,
   "metadata": {},
   "outputs": [],
   "source": [
    "import os\n",
    "import re\n",
    "\n",
    "from gensim.parsing.preprocessing import STOPWORDS\n",
    "from gensim import corpora\n",
    "\n",
    "from gensim.models.ldamulticore import LdaMulticore"
   ]
  },
  {
   "cell_type": "code",
   "execution_count": 30,
   "metadata": {},
   "outputs": [],
   "source": [
    "# A Dictionary Representation of all the words in our corpus\n",
    "id2word = corpora.Dictionary(data_words)"
   ]
  },
  {
   "cell_type": "code",
   "execution_count": 31,
   "metadata": {},
   "outputs": [
    {
     "data": {
      "text/plain": [
       "561"
      ]
     },
     "execution_count": 31,
     "metadata": {},
     "output_type": "execute_result"
    }
   ],
   "source": [
    "id2word.token2id['security']"
   ]
  },
  {
   "cell_type": "code",
   "execution_count": 32,
   "metadata": {},
   "outputs": [
    {
     "data": {
      "text/plain": [
       "'security'"
      ]
     },
     "execution_count": 32,
     "metadata": {},
     "output_type": "execute_result"
    }
   ],
   "source": [
    "id2word[561]"
   ]
  },
  {
   "cell_type": "code",
   "execution_count": 33,
   "metadata": {},
   "outputs": [
    {
     "data": {
      "text/plain": [
       "4578"
      ]
     },
     "execution_count": 33,
     "metadata": {},
     "output_type": "execute_result"
    }
   ],
   "source": [
    "len(id2word.keys())"
   ]
  },
  {
   "cell_type": "code",
   "execution_count": 34,
   "metadata": {},
   "outputs": [],
   "source": [
    "# Let's remove extreme values from the dataset\n",
    "id2word.filter_extremes(no_below=10, no_above=0.75)"
   ]
  },
  {
   "cell_type": "code",
   "execution_count": 35,
   "metadata": {},
   "outputs": [
    {
     "data": {
      "text/plain": [
       "827"
      ]
     },
     "execution_count": 35,
     "metadata": {},
     "output_type": "execute_result"
    }
   ],
   "source": [
    "len(id2word.keys())"
   ]
  },
  {
   "cell_type": "code",
   "execution_count": 36,
   "metadata": {},
   "outputs": [],
   "source": [
    "corpus = [id2word.doc2bow(text) for text in data_words]"
   ]
  },
  {
   "cell_type": "code",
   "execution_count": 37,
   "metadata": {},
   "outputs": [],
   "source": [
    "lda = LdaMulticore(corpus=corpus,\n",
    "                   id2word=id2word,\n",
    "                   random_state=42,\n",
    "                   num_topics = 5,\n",
    "                   passes=10,\n",
    "                   workers=4\n",
    "                  )"
   ]
  },
  {
   "cell_type": "code",
   "execution_count": 38,
   "metadata": {},
   "outputs": [],
   "source": [
    "words = [re.findall(r'\"([^\"]*)\"',t[1]) for t in lda.print_topics()]"
   ]
  },
  {
   "cell_type": "code",
   "execution_count": 39,
   "metadata": {},
   "outputs": [
    {
     "name": "stdout",
     "output_type": "stream",
     "text": [
      "['twitter public profile like facebook', 'google like site learn profile', 'mobile site sites websites ad', 'sites group mobile identifies apps', 'statement product payment communications credit']\n"
     ]
    }
   ],
   "source": [
    "topics = [' '.join(t[0:5]) for t in words]\n",
    "print(topics)"
   ]
  },
  {
   "cell_type": "code",
   "execution_count": 40,
   "metadata": {},
   "outputs": [],
   "source": [
    "import pyLDAvis.gensim\n",
    "import pyLDAvis\n",
    "\n",
    "pyLDAvis.enable_notebook()"
   ]
  },
  {
   "cell_type": "code",
   "execution_count": 41,
   "metadata": {},
   "outputs": [
    {
     "name": "stderr",
     "output_type": "stream",
     "text": [
      "/Users/ljohnson/anaconda3/lib/python3.7/site-packages/pyLDAvis/_prepare.py:257: FutureWarning: Sorting because non-concatenation axis is not aligned. A future version\n",
      "of pandas will change to not sort by default.\n",
      "\n",
      "To accept the future behavior, pass 'sort=False'.\n",
      "\n",
      "To retain the current behavior and silence the warning, pass 'sort=True'.\n",
      "\n",
      "  return pd.concat([default_term_info] + list(topic_dfs))\n"
     ]
    },
    {
     "data": {
      "text/html": [
       "\n",
       "<link rel=\"stylesheet\" type=\"text/css\" href=\"https://cdn.rawgit.com/bmabey/pyLDAvis/files/ldavis.v1.0.0.css\">\n",
       "\n",
       "\n",
       "<div id=\"ldavis_el193561124340402888957147595\"></div>\n",
       "<script type=\"text/javascript\">\n",
       "\n",
       "var ldavis_el193561124340402888957147595_data = {\"mdsDat\": {\"x\": [0.005191649926750812, -0.020035708432931572, 0.10795562538890481, -0.10719255341775515, 0.01408098653503105], \"y\": [0.0466059195814946, -0.02187668290567545, -0.07198976326703592, -0.0529872272209186, 0.10024775381213535], \"topics\": [1, 2, 3, 4, 5], \"cluster\": [1, 1, 1, 1, 1], \"Freq\": [30.109453201293945, 29.193696975708008, 20.00208854675293, 13.542729377746582, 7.152029037475586]}, \"tinfo\": {\"Category\": [\"Default\", \"Default\", \"Default\", \"Default\", \"Default\", \"Default\", \"Default\", \"Default\", \"Default\", \"Default\", \"Default\", \"Default\", \"Default\", \"Default\", \"Default\", \"Default\", \"Default\", \"Default\", \"Default\", \"Default\", \"Default\", \"Default\", \"Default\", \"Default\", \"Default\", \"Default\", \"Default\", \"Default\", \"Default\", \"Default\", \"Topic1\", \"Topic1\", \"Topic1\", \"Topic1\", \"Topic1\", \"Topic1\", \"Topic1\", \"Topic1\", \"Topic1\", \"Topic1\", \"Topic1\", \"Topic1\", \"Topic1\", \"Topic1\", \"Topic1\", \"Topic1\", \"Topic1\", \"Topic1\", \"Topic1\", \"Topic1\", \"Topic1\", \"Topic1\", \"Topic1\", \"Topic1\", \"Topic1\", \"Topic1\", \"Topic1\", \"Topic1\", \"Topic1\", \"Topic1\", \"Topic1\", \"Topic1\", \"Topic1\", \"Topic1\", \"Topic1\", \"Topic1\", \"Topic1\", \"Topic1\", \"Topic1\", \"Topic1\", \"Topic1\", \"Topic1\", \"Topic1\", \"Topic1\", \"Topic1\", \"Topic1\", \"Topic1\", \"Topic1\", \"Topic1\", \"Topic1\", \"Topic1\", \"Topic1\", \"Topic1\", \"Topic1\", \"Topic1\", \"Topic1\", \"Topic1\", \"Topic2\", \"Topic2\", \"Topic2\", \"Topic2\", \"Topic2\", \"Topic2\", \"Topic2\", \"Topic2\", \"Topic2\", \"Topic2\", \"Topic2\", \"Topic2\", \"Topic2\", \"Topic2\", \"Topic2\", \"Topic2\", \"Topic2\", \"Topic2\", \"Topic2\", \"Topic2\", \"Topic2\", \"Topic2\", \"Topic2\", \"Topic2\", \"Topic2\", \"Topic2\", \"Topic2\", \"Topic2\", \"Topic2\", \"Topic2\", \"Topic2\", \"Topic2\", \"Topic2\", \"Topic2\", \"Topic2\", \"Topic2\", \"Topic2\", \"Topic2\", \"Topic2\", \"Topic2\", \"Topic2\", \"Topic2\", \"Topic2\", \"Topic2\", \"Topic2\", \"Topic2\", \"Topic2\", \"Topic2\", \"Topic2\", \"Topic2\", \"Topic2\", \"Topic2\", \"Topic2\", \"Topic2\", \"Topic2\", \"Topic2\", \"Topic2\", \"Topic2\", \"Topic2\", \"Topic2\", \"Topic2\", \"Topic3\", \"Topic3\", \"Topic3\", \"Topic3\", \"Topic3\", \"Topic3\", \"Topic3\", \"Topic3\", \"Topic3\", \"Topic3\", \"Topic3\", \"Topic3\", \"Topic3\", \"Topic3\", \"Topic3\", \"Topic3\", \"Topic3\", \"Topic3\", \"Topic3\", \"Topic3\", \"Topic3\", \"Topic3\", \"Topic3\", \"Topic3\", \"Topic3\", \"Topic3\", \"Topic3\", \"Topic3\", \"Topic3\", \"Topic3\", \"Topic3\", \"Topic3\", \"Topic3\", \"Topic3\", \"Topic3\", \"Topic3\", \"Topic3\", \"Topic3\", \"Topic3\", \"Topic3\", \"Topic3\", \"Topic3\", \"Topic3\", \"Topic3\", \"Topic3\", \"Topic3\", \"Topic3\", \"Topic3\", \"Topic3\", \"Topic3\", \"Topic3\", \"Topic3\", \"Topic3\", \"Topic3\", \"Topic3\", \"Topic3\", \"Topic3\", \"Topic3\", \"Topic3\", \"Topic4\", \"Topic4\", \"Topic4\", \"Topic4\", \"Topic4\", \"Topic4\", \"Topic4\", \"Topic4\", \"Topic4\", \"Topic4\", \"Topic4\", \"Topic4\", \"Topic4\", \"Topic4\", \"Topic4\", \"Topic4\", \"Topic4\", \"Topic4\", \"Topic4\", \"Topic4\", \"Topic4\", \"Topic4\", \"Topic4\", \"Topic4\", \"Topic4\", \"Topic4\", \"Topic4\", \"Topic4\", \"Topic4\", \"Topic4\", \"Topic4\", \"Topic4\", \"Topic4\", \"Topic4\", \"Topic4\", \"Topic4\", \"Topic4\", \"Topic4\", \"Topic4\", \"Topic4\", \"Topic4\", \"Topic4\", \"Topic4\", \"Topic4\", \"Topic4\", \"Topic4\", \"Topic4\", \"Topic4\", \"Topic4\", \"Topic4\", \"Topic4\", \"Topic4\", \"Topic4\", \"Topic4\", \"Topic4\", \"Topic4\", \"Topic4\", \"Topic4\", \"Topic4\", \"Topic4\", \"Topic4\", \"Topic4\", \"Topic4\", \"Topic5\", \"Topic5\", \"Topic5\", \"Topic5\", \"Topic5\", \"Topic5\", \"Topic5\", \"Topic5\", \"Topic5\", \"Topic5\", \"Topic5\", \"Topic5\", \"Topic5\", \"Topic5\", \"Topic5\", \"Topic5\", \"Topic5\", \"Topic5\", \"Topic5\", \"Topic5\", \"Topic5\", \"Topic5\", \"Topic5\", \"Topic5\", \"Topic5\", \"Topic5\", \"Topic5\", \"Topic5\", \"Topic5\", \"Topic5\", \"Topic5\", \"Topic5\", \"Topic5\", \"Topic5\", \"Topic5\", \"Topic5\", \"Topic5\", \"Topic5\", \"Topic5\", \"Topic5\", \"Topic5\", \"Topic5\", \"Topic5\", \"Topic5\", \"Topic5\", \"Topic5\", \"Topic5\", \"Topic5\", \"Topic5\", \"Topic5\", \"Topic5\", \"Topic5\", \"Topic5\"], \"Freq\": [269.0, 248.0, 187.0, 295.0, 116.0, 256.0, 59.0, 216.0, 126.0, 79.0, 47.0, 89.0, 103.0, 235.0, 102.0, 162.0, 129.0, 79.0, 61.0, 112.0, 144.0, 146.0, 77.0, 230.0, 82.0, 85.0, 132.0, 163.0, 93.0, 62.0, 31.434572219848633, 12.079534530639648, 30.09549903869629, 90.18971252441406, 34.233646392822266, 17.062389373779297, 14.544042587280273, 63.72168731689453, 11.815624237060547, 86.55774688720703, 38.35233688354492, 11.693995475769043, 12.941591262817383, 10.706413269042969, 19.576114654541016, 14.767640113830566, 19.833995819091797, 44.82439422607422, 15.033430099487305, 12.834382057189941, 9.124417304992676, 9.287961959838867, 10.485051155090332, 24.33607292175293, 18.680612564086914, 10.919642448425293, 13.35581111907959, 10.578208923339844, 44.72321701049805, 12.87533187866211, 186.815673828125, 60.561683654785156, 144.947265625, 133.96788024902344, 147.93264770507812, 88.56111907958984, 95.64987182617188, 73.10662078857422, 51.972145080566406, 48.2900390625, 46.66437530517578, 49.363372802734375, 56.9247932434082, 80.25151824951172, 68.28714752197266, 42.557247161865234, 67.91275787353516, 57.076148986816406, 37.12479782104492, 50.038089752197266, 32.404598236083984, 40.97419738769531, 49.57194137573242, 41.29267883300781, 42.16105651855469, 39.35579299926758, 39.010746002197266, 179.1416778564453, 22.054840087890625, 70.3010025024414, 18.13926887512207, 17.55573272705078, 20.226030349731445, 86.34439086914062, 15.08430004119873, 21.153553009033203, 15.958468437194824, 11.527161598205566, 19.3464298248291, 25.074588775634766, 8.744488716125488, 37.096580505371094, 29.59576988220215, 13.010030746459961, 13.505722045898438, 162.7866973876953, 17.53818130493164, 7.339144229888916, 31.375112533569336, 18.653167724609375, 21.884103775024414, 10.831448554992676, 12.735518455505371, 16.649030685424805, 19.111948013305664, 10.290070533752441, 17.008085250854492, 46.79997253417969, 38.80660629272461, 49.111507415771484, 39.41212844848633, 61.20767593383789, 109.25753021240234, 55.02033996582031, 73.58934020996094, 37.70456314086914, 57.98542022705078, 102.58679962158203, 59.79096221923828, 32.02229690551758, 61.03481674194336, 41.410736083984375, 66.88825225830078, 39.336585998535156, 45.81299591064453, 41.615074157714844, 31.368938446044922, 42.70773696899414, 40.24818420410156, 53.667640686035156, 39.19407272338867, 45.92211151123047, 43.1868896484375, 53.064483642578125, 43.35685348510742, 42.22932815551758, 45.142417907714844, 39.497562408447266, 101.0250015258789, 17.631866455078125, 46.198020935058594, 10.724262237548828, 17.384021759033203, 14.169594764709473, 8.357824325561523, 27.486003875732422, 10.870691299438477, 9.127421379089355, 85.27335357666016, 42.65513610839844, 15.28046989440918, 20.143020629882812, 13.430709838867188, 15.361119270324707, 44.18374252319336, 19.505109786987305, 23.328304290771484, 32.411956787109375, 8.561182975769043, 29.542072296142578, 14.178009033203125, 42.99623107910156, 38.27154541015625, 11.81254768371582, 23.699874877929688, 22.562700271606445, 9.160318374633789, 10.349058151245117, 16.035930633544922, 16.669925689697266, 81.78137969970703, 25.735336303710938, 40.29063415527344, 23.996337890625, 30.78451156616211, 45.36663055419922, 62.14982223510742, 23.285114288330078, 32.992454528808594, 78.5341567993164, 27.52617645263672, 51.43195343017578, 46.6943359375, 33.549903869628906, 38.38303756713867, 44.7440185546875, 42.91217803955078, 34.595088958740234, 40.43376541137695, 39.3327522277832, 40.37246322631836, 33.13363265991211, 35.64649200439453, 35.25661849975586, 37.71502685546875, 33.1895866394043, 32.55270767211914, 238.15313720703125, 11.540064811706543, 12.754008293151855, 9.544092178344727, 13.356201171875, 13.29089641571045, 7.580663204193115, 16.501096725463867, 7.601748466491699, 10.711791038513184, 13.922079086303711, 7.113883972167969, 6.555652618408203, 18.080087661743164, 5.591882705688477, 7.356304168701172, 8.09382438659668, 6.178226470947266, 13.282319068908691, 14.849406242370605, 12.943039894104004, 5.9858479499816895, 5.011521816253662, 15.404263496398926, 22.504934310913086, 8.563589096069336, 6.999962329864502, 18.89773178100586, 6.226682662963867, 13.282805442810059, 30.61749267578125, 75.58914947509766, 10.414328575134277, 25.84320831298828, 17.953216552734375, 18.927417755126953, 23.261661529541016, 73.19477844238281, 27.987184524536133, 27.937511444091797, 30.594223022460938, 27.880531311035156, 47.115142822265625, 25.90613555908203, 26.775062561035156, 31.083730697631836, 34.58412551879883, 25.881505966186523, 26.228769302368164, 36.79670333862305, 18.440763473510742, 21.221406936645508, 33.63376998901367, 24.87198829650879, 19.724706649780273, 17.299165725708008, 29.099136352539062, 22.49060821533203, 22.917572021484375, 21.46738052368164, 22.218700408935547, 19.38404655456543, 19.085420608520508, 44.599857330322266, 32.80479431152344, 6.162816047668457, 4.067808628082275, 31.914199829101562, 13.912124633789062, 5.094761371612549, 4.395309925079346, 7.269888877868652, 27.923646926879883, 4.150410175323486, 6.036508560180664, 7.772642135620117, 15.750429153442383, 3.6625149250030518, 7.364434242248535, 8.688911437988281, 4.894881725311279, 7.99190092086792, 16.8476619720459, 3.8921561241149902, 32.76262664794922, 9.369948387145996, 3.1711223125457764, 6.755541801452637, 25.168834686279297, 6.6189351081848145, 5.741609573364258, 6.762515544891357, 5.315974235534668, 52.408592224121094, 16.259239196777344, 14.761885643005371, 16.350536346435547, 12.117164611816406, 10.901103019714355, 16.54969596862793, 38.75578308105469, 22.514699935913086, 10.915180206298828, 9.254521369934082, 11.534696578979492, 14.359634399414062, 17.585084915161133, 16.085996627807617, 11.669489860534668, 17.786725997924805, 14.572468757629395, 11.679647445678711, 11.303503036499023, 12.214018821716309, 11.21605110168457, 11.742156028747559], \"Term\": [\"google\", \"sites\", \"twitter\", \"mobile\", \"statement\", \"site\", \"group\", \"like\", \"apps\", \"right\", \"identifies\", \"directly\", \"connection\", \"public\", \"facebook\", \"ad\", \"product\", \"ask\", \"username\", \"advertisements\", \"processing\", \"payment\", \"shield\", \"websites\", \"beacons\", \"legitimate\", \"search\", \"learn\", \"financial\", \"corporate\", \"targeted\", \"gifs\", \"promotions\", \"advertisements\", \"digital\", \"contain\", \"offline\", \"beacons\", \"org\", \"media\", \"platforms\", \"campaigns\", \"initiative\", \"parental\", \"accept\", \"knowingly\", \"alliance\", \"offers\", \"collectively\", \"considered\", \"conjunction\", \"birth\", \"likely\", \"recognize\", \"facilitate\", \"materials\", \"administrative\", \"served\", \"children\", \"guarantee\", \"mobile\", \"pages\", \"sites\", \"websites\", \"site\", \"social\", \"ad\", \"mail\", \"computer\", \"click\", \"networks\", \"internet\", \"applications\", \"choices\", \"allow\", \"sources\", \"notice\", \"identifiers\", \"accordance\", \"additional\", \"way\", \"tracking\", \"section\", \"advertisers\", \"activities\", \"analytics\", \"disclose\", \"twitter\", \"download\", \"shield\", \"integrity\", \"dispute\", \"swiss\", \"facebook\", \"authorize\", \"union\", \"resolution\", \"clauses\", \"team\", \"friends\", \"portability\", \"limit\", \"developer\", \"world\", \"top\", \"public\", \"recommend\", \"subpoena\", \"principles\", \"tell\", \"days\", \"abuse\", \"interested\", \"additionally\", \"visible\", \"govern\", \"copy\", \"states\", \"show\", \"accounts\", \"united\", \"people\", \"profile\", \"log\", \"messages\", \"private\", \"phone\", \"like\", \"network\", \"businesses\", \"whether\", \"operate\", \"learn\", \"personalize\", \"subject\", \"company\", \"comments\", \"advertisers\", \"create\", \"communications\", \"change\", \"allow\", \"similar\", \"websites\", \"search\", \"support\", \"mobile\", \"ad\", \"statement\", \"queries\", \"corporate\", \"loss\", \"obtained\", \"provision\", \"accuracy\", \"experiences\", \"recorded\", \"range\", \"product\", \"interactions\", \"act\", \"subscription\", \"recipients\", \"identification\", \"promotional\", \"reports\", \"hold\", \"agencies\", \"ratings\", \"organization\", \"controlled\", \"members\", \"family\", \"external\", \"edit\", \"processes\", \"erasure\", \"several\", \"iii\", \"officer\", \"payment\", \"government\", \"software\", \"controls\", \"telephone\", \"customers\", \"credit\", \"automated\", \"permitted\", \"communications\", \"updates\", \"interests\", \"section\", \"inc\", \"tools\", \"search\", \"customer\", \"disclosure\", \"activities\", \"disclose\", \"processing\", \"includes\", \"relevant\", \"mail\", \"profile\", \"support\", \"devices\", \"google\", \"copies\", \"sexual\", \"destruction\", \"model\", \"governmental\", \"immediately\", \"anonymous\", \"engines\", \"period\", \"appear\", \"install\", \"contractors\", \"results\", \"matter\", \"persons\", \"two\", \"cell\", \"statistics\", \"organizations\", \"categories\", \"actual\", \"explicit\", \"tags\", \"language\", \"logs\", \"versions\", \"unauthorized\", \"disabled\", \"chat\", \"publicly\", \"like\", \"hardware\", \"might\", \"posts\", \"individuals\", \"know\", \"site\", \"ask\", \"many\", \"keep\", \"activity\", \"learn\", \"post\", \"associated\", \"people\", \"search\", \"view\", \"offer\", \"profile\", \"get\", \"unique\", \"public\", \"analytics\", \"give\", \"servers\", \"sites\", \"cookie\", \"relevant\", \"log\", \"identifiers\", \"regarding\", \"create\", \"group\", \"identifies\", \"transactional\", \"adhere\", \"right\", \"must\", \"back\", \"included\", \"buy\", \"directly\", \"contents\", \"opting\", \"relating\", \"id\", \"safeguard\", \"clicking\", \"electronic\", \"concerns\", \"object\", \"username\", \"forms\", \"apps\", \"contract\", \"logging\", \"reviews\", \"connection\", \"survey\", \"harm\", \"check\", \"session\", \"sites\", \"ask\", \"without\", \"legitimate\", \"performance\", \"eea\", \"financial\", \"mobile\", \"processing\", \"platform\", \"notices\", \"purpose\", \"need\", \"ad\", \"notice\", \"track\", \"websites\", \"messages\", \"comply\", \"tracking\", \"analytics\", \"link\", \"section\"], \"Total\": [269.0, 248.0, 187.0, 295.0, 116.0, 256.0, 59.0, 216.0, 126.0, 79.0, 47.0, 89.0, 103.0, 235.0, 102.0, 162.0, 129.0, 79.0, 61.0, 112.0, 144.0, 146.0, 77.0, 230.0, 82.0, 85.0, 132.0, 163.0, 93.0, 62.0, 34.66754913330078, 14.46476936340332, 37.29721450805664, 112.73300170898438, 43.23457336425781, 21.65921401977539, 18.64886474609375, 82.18878936767578, 15.302013397216797, 112.94349670410156, 50.07883834838867, 15.475462913513184, 17.281085968017578, 14.381789207458496, 26.78715705871582, 20.43009376525879, 27.520984649658203, 63.06678771972656, 21.409799575805664, 18.40032386779785, 13.09316635131836, 13.336397171020508, 15.226247787475586, 35.49810791015625, 27.45242691040039, 16.07587242126465, 20.045795440673828, 16.216289520263672, 69.6030044555664, 20.09793472290039, 295.5504150390625, 95.88438415527344, 248.30502319335938, 230.5280303955078, 256.5950012207031, 148.58509826660156, 162.3790740966797, 126.03502655029297, 87.25019836425781, 80.31658172607422, 77.51168060302734, 85.1048583984375, 101.33330535888672, 157.63970947265625, 135.4791259765625, 75.72432708740234, 141.44285583496094, 118.14501953125, 66.48056030273438, 107.53147888183594, 57.62263870239258, 86.98037719726562, 124.18510437011719, 97.72339630126953, 125.35797882080078, 114.90011596679688, 126.84246063232422, 187.00131225585938, 23.85242462158203, 77.2749252319336, 20.04068374633789, 20.045316696166992, 23.971355438232422, 102.69717407226562, 18.284311294555664, 27.919588088989258, 21.249502182006836, 15.380215644836426, 26.80531883239746, 35.0177116394043, 12.235040664672852, 52.220035552978516, 42.57434844970703, 18.72812271118164, 19.527978897094727, 235.72735595703125, 25.418214797973633, 10.6757173538208, 46.17399978637695, 27.655780792236328, 32.599159240722656, 16.183748245239258, 19.134807586669922, 25.136428833007812, 28.916160583496094, 15.613178253173828, 25.868614196777344, 71.9415283203125, 63.19518280029297, 81.52596282958984, 66.48707580566406, 109.23902130126953, 211.58045959472656, 97.49340057373047, 137.9696807861328, 63.98542404174805, 108.44273376464844, 216.69290161132812, 115.86873626708984, 53.85641098022461, 125.95994567871094, 80.70762634277344, 163.20111083984375, 76.66461181640625, 99.6746826171875, 88.35813903808594, 55.08848190307617, 97.72339630126953, 93.32135009765625, 179.13400268554688, 90.78610229492188, 135.4791259765625, 121.5634994506836, 230.5280303955078, 132.69151306152344, 128.61724853515625, 295.5504150390625, 162.3790740966797, 116.06321716308594, 22.375001907348633, 62.708065032958984, 14.569925308227539, 24.462913513183594, 19.940759658813477, 11.806507110595703, 39.19023132324219, 15.558599472045898, 13.849576950073242, 129.5473175048828, 65.28561401367188, 23.393932342529297, 30.982080459594727, 20.769899368286133, 23.76314353942871, 68.7017593383789, 30.38847541809082, 36.98588180541992, 51.69834899902344, 13.835444450378418, 47.857574462890625, 23.00855827331543, 70.157958984375, 62.63581848144531, 19.356849670410156, 39.04826736450195, 37.61594009399414, 15.421213150024414, 17.481325149536133, 27.095619201660156, 28.39229393005371, 146.05410766601562, 44.41796875, 71.38709259033203, 41.31678009033203, 54.321563720703125, 85.02174377441406, 123.56451416015625, 40.07398986816406, 60.99176025390625, 179.13400268554688, 52.102210998535156, 133.89047241210938, 124.18510437011719, 74.78712463378906, 99.26494598388672, 132.69151306152344, 129.88568115234375, 89.95922088623047, 125.35797882080078, 126.84246063232422, 144.75332641601562, 101.0843276977539, 129.31959533691406, 126.03502655029297, 211.58045959472656, 128.61724853515625, 110.7436752319336, 269.2738037109375, 14.387537002563477, 19.098588943481445, 14.661690711975098, 21.932701110839844, 21.962326049804688, 12.907785415649414, 28.22672462463379, 13.74068832397461, 19.57281494140625, 26.64983367919922, 14.083561897277832, 13.037942886352539, 36.13713073730469, 11.19649887084961, 15.337876319885254, 16.998876571655273, 13.174880027770996, 28.70679473876953, 32.24925994873047, 28.29292869567871, 13.097719192504883, 10.978691101074219, 33.844886779785156, 50.391876220703125, 19.33537483215332, 15.891633033752441, 43.21781539916992, 14.495923042297363, 31.0030517578125, 75.74301147460938, 216.69290161132812, 24.64468765258789, 69.39398193359375, 46.28443145751953, 49.23545455932617, 63.09889602661133, 256.5950012207031, 79.45272827148438, 80.57608795166016, 91.1037368774414, 81.23262786865234, 163.20111083984375, 76.3667221069336, 80.54576110839844, 109.23902130126953, 132.69151306152344, 84.89380645751953, 95.12492370605469, 211.58045959472656, 50.452980041503906, 71.30570220947266, 235.72735595703125, 114.90011596679688, 67.1817398071289, 48.31557846069336, 248.30502319335938, 110.59477233886719, 129.31959533691406, 97.49340057373047, 118.14501953125, 98.0531234741211, 93.32135009765625, 59.04942321777344, 47.85980987548828, 12.42125129699707, 10.111837387084961, 79.92811584472656, 38.5268669128418, 14.384153366088867, 13.085407257080078, 22.637191772460938, 89.62205505371094, 13.386653900146484, 19.609127044677734, 25.783092498779297, 52.85247802734375, 12.472651481628418, 26.14163589477539, 31.410913467407227, 17.716188430786133, 29.31289291381836, 61.81883239746094, 14.729488372802734, 126.86104583740234, 37.04570388793945, 12.553681373596191, 27.419742584228516, 103.4185791015625, 27.565744400024414, 24.024295806884766, 28.555166244506836, 22.54094696044922, 248.30502319335938, 79.45272827148438, 75.6939697265625, 85.9254150390625, 60.36782455444336, 53.120853424072266, 93.32755279541016, 295.5504150390625, 144.75332641601562, 60.69130325317383, 46.699424743652344, 69.23563385009766, 104.05271911621094, 162.3790740966797, 141.44285583496094, 74.5889663696289, 230.5280303955078, 137.9696807861328, 84.79022216796875, 86.98037719726562, 114.90011596679688, 86.14825439453125, 124.18510437011719], \"loglift\": [30.0, 29.0, 28.0, 27.0, 26.0, 25.0, 24.0, 23.0, 22.0, 21.0, 20.0, 19.0, 18.0, 17.0, 16.0, 15.0, 14.0, 13.0, 12.0, 11.0, 10.0, 9.0, 8.0, 7.0, 6.0, 5.0, 4.0, 3.0, 2.0, 1.0, 1.1023999452590942, 1.0200999975204468, 0.98580002784729, 0.9771999716758728, 0.9668999910354614, 0.9617999792098999, 0.95169997215271, 0.9458000063896179, 0.9417999982833862, 0.9343000054359436, 0.9334999918937683, 0.920199990272522, 0.9111999869346619, 0.9052000045776367, 0.8866999745368958, 0.8758000135421753, 0.8727999925613403, 0.8589000105857849, 0.8468000292778015, 0.8400999903678894, 0.8392000198364258, 0.8385999798774719, 0.8273000121116638, 0.8227999806404114, 0.8154000043869019, 0.8136000037193298, 0.7943000197410583, 0.7731000185012817, 0.7580000162124634, 0.7549999952316284, 0.741599977016449, 0.7408999800682068, 0.6620000004768372, 0.6575999855995178, 0.6496000289916992, 0.6829000115394592, 0.6711000204086304, 0.6557000279426575, 0.6822999715805054, 0.6916000247001648, 0.6929000020027161, 0.6557000279426575, 0.6236000061035156, 0.5252000093460083, 0.5152000188827515, 0.6241000294685364, 0.4666999876499176, 0.47279998660087585, 0.6176999807357788, 0.43529999256134033, 0.6247000098228455, 0.44760000705718994, 0.28200000524520874, 0.33889999985694885, 0.11069999635219574, 0.12890000641345978, 0.021199999377131462, 1.1883000135421753, 1.152899980545044, 1.1366000175476074, 1.131500005722046, 1.0986000299453735, 1.0613000392913818, 1.057800054550171, 1.0388000011444092, 0.9537000060081482, 0.9448999762535095, 0.942799985408783, 0.9050999879837036, 0.8971999883651733, 0.8952999711036682, 0.8892999887466431, 0.8676000237464905, 0.8669000267982483, 0.862500011920929, 0.8610000014305115, 0.8600999712944031, 0.8565000295639038, 0.8447999954223633, 0.8374000191688538, 0.8327000141143799, 0.8296999931335449, 0.8241000175476074, 0.8192999958992004, 0.8170999884605408, 0.814300000667572, 0.8119000196456909, 0.8011999726295471, 0.7436000108718872, 0.724399983882904, 0.708299994468689, 0.6520000100135803, 0.5702999830245972, 0.6590999960899353, 0.6026999950408936, 0.7023000121116638, 0.6051999926567078, 0.48339998722076416, 0.569599986076355, 0.7113000154495239, 0.5066999793052673, 0.5638999938964844, 0.3393000066280365, 0.5638999938964844, 0.453900009393692, 0.478300005197525, 0.6680999994277954, 0.4034999907016754, 0.3901999890804291, 0.02590000070631504, 0.3912000060081482, 0.1492999941110611, 0.19629999995231628, -0.23759999871253967, 0.11270000040531158, 0.11749999970197678, -0.6478000283241272, -0.18250000476837158, 1.4706000089645386, 1.3710999488830566, 1.3037999868392944, 1.302899956703186, 1.267699956893921, 1.267699956893921, 1.2639000415802002, 1.2546000480651855, 1.2508000135421753, 1.1923999786376953, 1.191100001335144, 1.1836999654769897, 1.18340003490448, 1.1787999868392944, 1.1734000444412231, 1.1729999780654907, 1.1678999662399292, 1.1658999919891357, 1.1484999656677246, 1.1424000263214111, 1.1292999982833862, 1.1268999576568604, 1.1252000331878662, 1.1196999549865723, 1.1167000532150269, 1.115399956703186, 1.1100000143051147, 1.0981999635696411, 1.0885000228881836, 1.0851000547409058, 1.0848000049591064, 1.076799988746643, 1.0293999910354614, 1.063599944114685, 1.0372999906539917, 1.065999984741211, 1.0413999557495117, 0.9811999797821045, 0.9221000075340271, 1.0664000511169434, 0.9948999881744385, 0.7846999764442444, 0.9713000059127808, 0.6525999903678894, 0.6312000155448914, 0.807699978351593, 0.6592000126838684, 0.5223000049591064, 0.501800000667572, 0.6536999940872192, 0.47780001163482666, 0.438400000333786, 0.33250001072883606, 0.49390000104904175, 0.3206999897956848, 0.3353999853134155, -0.1151999980211258, 0.2547000050544739, 0.38499999046325684, 1.8765000104904175, 1.7788000106811523, 1.5956000089645386, 1.5700000524520874, 1.5032999515533447, 1.4970999956130981, 1.4671000242233276, 1.462499976158142, 1.4072999954223633, 1.3964999914169312, 1.350000023841858, 1.3164000511169434, 1.3118000030517578, 1.3068000078201294, 1.3049999475479126, 1.2646000385284424, 1.2573000192642212, 1.2419999837875366, 1.228600025177002, 1.2237999439239502, 1.2173000574111938, 1.2163000106811523, 1.2151000499725342, 1.2122000455856323, 1.1931999921798706, 1.1849000453948975, 1.1793999671936035, 1.1720999479293823, 1.1542999744415283, 1.1517000198364258, 1.093500018119812, 0.9462000131607056, 1.1378999948501587, 1.0116000175476074, 1.052299976348877, 1.0433000326156616, 1.0013999938964844, 0.7448999881744385, 0.9559000134468079, 0.9401000142097473, 0.9081000089645386, 0.9298999905586243, 0.7569000124931335, 0.9182999730110168, 0.8980000019073486, 0.7425000071525574, 0.654699981212616, 0.8113999962806702, 0.7110000252723694, 0.2500999867916107, 0.9927999973297119, 0.7874000072479248, 0.05220000073313713, 0.4690000116825104, 0.7738000154495239, 0.9721999764442444, -0.1446000039577484, 0.4065000116825104, 0.2689000070095062, 0.4860999882221222, 0.32829999923706055, 0.3783000111579895, 0.412200003862381, 2.357100009918213, 2.2600998878479004, 1.936900019645691, 1.7272000312805176, 1.7196999788284302, 1.6191999912261963, 1.5999000072479248, 1.5468000173568726, 1.5018999576568604, 1.47160005569458, 1.4666999578475952, 1.4595999717712402, 1.4386999607086182, 1.4270999431610107, 1.4124000072479248, 1.37090003490448, 1.3526999950408936, 1.3515000343322754, 1.3381999731063843, 1.3378000259399414, 1.3069000244140625, 1.284000039100647, 1.263100028038025, 1.2618000507354736, 1.236899971961975, 1.2245999574661255, 1.2110999822616577, 1.2064000368118286, 1.1972999572753906, 1.1931999921798706, 1.082200050354004, 1.051300048828125, 1.003100037574768, 0.978600025177002, 1.0319000482559204, 1.0541000366210938, 0.9079999923706055, 0.6061999797821045, 0.7768999934196472, 0.9221000075340271, 1.0191999673843384, 0.8456000089645386, 0.6572999954223633, 0.414900004863739, 0.46380001306533813, 0.782800018787384, 0.07590000331401825, 0.38989999890327454, 0.6553999781608582, 0.5971999764442444, 0.39629998803138733, 0.5990999937057495, 0.2791999876499176], \"logprob\": [30.0, 29.0, 28.0, 27.0, 26.0, 25.0, 24.0, 23.0, 22.0, 21.0, 20.0, 19.0, 18.0, 17.0, 16.0, 15.0, 14.0, 13.0, 12.0, 11.0, 10.0, 9.0, 8.0, 7.0, 6.0, 5.0, 4.0, 3.0, 2.0, 1.0, -5.79610013961792, -6.752500057220459, -5.839700222015381, -4.742099761962891, -5.7108001708984375, -6.407100200653076, -6.566800117492676, -5.0894999504089355, -6.774600028991699, -4.783199787139893, -5.5971999168396, -6.784999847412109, -6.683599948883057, -6.873199939727783, -6.269700050354004, -6.551599979400635, -6.2565999031066895, -5.441299915313721, -6.53380012512207, -6.69189977645874, -7.033100128173828, -7.0152997970581055, -6.894100189208984, -6.05210018157959, -6.316500186920166, -6.853499889373779, -6.652100086212158, -6.885200023651123, -5.44350004196167, -6.688700199127197, -4.013899803161621, -5.140399932861328, -4.2677001953125, -4.346399784088135, -4.247300148010254, -4.760300159454346, -4.683300018310547, -4.952099800109863, -5.293300151824951, -5.366799831390381, -5.401000022888184, -5.344799995422363, -5.202300071716309, -4.85890007019043, -5.020299911499023, -5.493199825286865, -5.0258002281188965, -5.1996002197265625, -5.629700183868408, -5.331200122833252, -5.765699863433838, -5.531099796295166, -5.34060001373291, -5.5233001708984375, -5.502500057220459, -5.571400165557861, -5.5802001953125, -4.025000095367432, -6.11959981918335, -4.960400104522705, -6.315100193023682, -6.347799777984619, -6.206200122833252, -4.754799842834473, -6.499499797821045, -6.161300182342529, -6.44320011138916, -6.768400192260742, -6.2505998611450195, -5.991300106048584, -7.0447001457214355, -5.599599838256836, -5.825500011444092, -6.64739990234375, -6.610000133514404, -4.120699882507324, -6.348800182342529, -7.219900131225586, -5.767099857330322, -6.287099838256836, -6.127399921417236, -6.830699920654297, -6.668700218200684, -6.4008002281188965, -6.262800216674805, -6.881999969482422, -6.379499912261963, -5.367300033569336, -5.554500102996826, -5.318999767303467, -5.539100170135498, -5.098899841308594, -4.519400119781494, -5.205399990081787, -4.914599895477295, -5.583399772644043, -5.152900218963623, -4.582399845123291, -5.122300148010254, -5.746699810028076, -5.1016998291015625, -5.48960018157959, -5.0100998878479, -5.540999889373779, -5.388599872589111, -5.4847002029418945, -5.767300128936768, -5.458799839019775, -5.518099784851074, -5.230299949645996, -5.544600009918213, -5.386199951171875, -5.4475998878479, -5.241600036621094, -5.443699836730957, -5.46999979019165, -5.403299808502197, -5.536900043487549, -4.219699859619141, -5.9653000831604, -5.002099990844727, -6.462500095367432, -5.979499816894531, -6.183899879455566, -6.7118000984191895, -5.521299839019775, -6.448999881744385, -6.623700141906738, -4.389200210571289, -5.081900119781494, -6.108399868011475, -5.832200050354004, -6.237500190734863, -6.1031999588012695, -5.0467000007629395, -5.864299774169922, -5.685400009155273, -5.356500148773193, -6.68779993057251, -5.44920015335083, -6.183300018310547, -5.07390022277832, -5.190299987792969, -6.365900039672852, -5.669600009918213, -5.718699932098389, -6.620100021362305, -6.4980998039245605, -6.060200214385986, -6.021399974822998, -4.431000232696533, -5.587200164794922, -5.138899803161621, -5.657100200653076, -5.4079999923706055, -5.020199775695801, -4.70550012588501, -5.68720006942749, -5.338699817657471, -4.471499919891357, -5.519899845123291, -4.894800186157227, -4.991399765014648, -5.322000026702881, -5.187399864196777, -5.03410005569458, -5.075900077819824, -5.291299819946289, -5.13539981842041, -5.163000106811523, -5.136899948120117, -5.334499835968018, -5.26140022277832, -5.27239990234375, -5.204999923706055, -5.332799911499023, -5.352200031280518, -2.972100019454956, -5.999199867248535, -5.899199962615967, -6.1890997886657715, -5.853099822998047, -5.857999801635742, -6.419400215148926, -5.641600131988525, -6.4166998863220215, -6.073699951171875, -5.811600208282471, -6.482999801635742, -6.564700126647949, -5.55019998550415, -6.723700046539307, -6.44950008392334, -6.353899955749512, -6.624000072479248, -5.85860013961792, -5.747099876403809, -5.884500026702881, -6.655600070953369, -6.8333001136779785, -5.710400104522705, -5.331299781799316, -6.297500133514404, -6.499100208282471, -5.50600004196167, -6.616199970245361, -5.85860013961792, -5.023499965667725, -4.119699954986572, -6.101900100708008, -5.192999839782715, -5.557300090789795, -5.50439977645874, -5.2982001304626465, -4.151899814605713, -5.11329984664917, -5.115099906921387, -5.024199962615967, -5.117099761962891, -4.592400074005127, -5.1905999183654785, -5.157599925994873, -5.008399963378906, -4.901599884033203, -5.191500186920166, -5.178199768066406, -4.839600086212158, -5.5304999351501465, -5.389999866485596, -4.929500102996826, -5.231299877166748, -5.463200092315674, -5.594399929046631, -5.0742998123168945, -5.331900119781494, -5.3130998611450195, -5.378499984741211, -5.344099998474121, -5.480599880218506, -5.496099948883057, -4.008900165557861, -4.315999984741211, -5.98799991607666, -6.403500080108643, -4.343500137329102, -5.173799991607666, -6.178400039672852, -6.326000213623047, -5.822800159454346, -4.477099895477295, -6.383399963378906, -6.008800029754639, -5.75600004196167, -5.049699783325195, -6.508399963378906, -5.809899806976318, -5.644499778747559, -6.218400001525879, -5.7281999588012695, -4.982399940490723, -6.4475998878479, -4.317299842834473, -5.5690999031066895, -6.652500152587891, -5.896200180053711, -4.580999851226807, -5.916600227355957, -6.058800220489502, -5.895199775695801, -6.135900020599365, -3.8475000858306885, -5.017899990081787, -5.114500045776367, -5.01230001449585, -5.311999797821045, -5.417699813842773, -5.000199794769287, -4.1493000984191895, -4.692399978637695, -5.416399955749512, -5.581500053405762, -5.361199855804443, -5.142199993133545, -4.939499855041504, -5.028600215911865, -5.349599838256836, -4.928100109100342, -5.127399921417236, -5.348700046539307, -5.381499767303467, -5.303999900817871, -5.389200210571289, -5.343400001525879]}, \"token.table\": {\"Topic\": [1, 2, 3, 4, 5, 1, 2, 1, 2, 3, 5, 1, 2, 3, 4, 1, 2, 3, 5, 1, 2, 3, 4, 5, 1, 2, 3, 4, 5, 1, 2, 3, 4, 5, 2, 3, 4, 1, 2, 3, 4, 5, 1, 2, 3, 4, 5, 1, 2, 3, 1, 2, 4, 5, 1, 2, 4, 5, 1, 2, 3, 4, 5, 1, 2, 4, 5, 1, 2, 3, 5, 1, 2, 4, 5, 1, 2, 3, 4, 5, 1, 2, 3, 4, 5, 1, 2, 4, 1, 2, 4, 5, 1, 2, 3, 4, 5, 1, 2, 3, 4, 5, 1, 2, 3, 4, 5, 1, 2, 3, 4, 5, 1, 2, 4, 1, 2, 3, 4, 5, 1, 4, 5, 1, 2, 3, 4, 5, 1, 3, 4, 5, 1, 2, 4, 5, 1, 2, 4, 5, 1, 2, 3, 4, 1, 2, 3, 4, 5, 1, 2, 3, 4, 1, 2, 3, 4, 5, 1, 2, 3, 4, 1, 2, 4, 5, 1, 2, 3, 4, 5, 1, 2, 3, 4, 5, 2, 3, 1, 2, 3, 4, 5, 1, 2, 3, 4, 5, 1, 2, 3, 4, 5, 1, 2, 4, 5, 1, 2, 3, 4, 5, 1, 2, 3, 4, 5, 1, 2, 3, 4, 5, 1, 2, 3, 4, 5, 1, 2, 3, 4, 5, 1, 4, 1, 2, 3, 4, 5, 1, 2, 3, 4, 1, 2, 3, 4, 1, 2, 3, 5, 1, 2, 3, 4, 5, 1, 2, 3, 4, 5, 1, 2, 3, 5, 1, 2, 3, 4, 1, 2, 3, 4, 5, 2, 4, 1, 2, 3, 4, 5, 1, 2, 3, 4, 1, 2, 3, 4, 5, 1, 2, 3, 4, 5, 1, 2, 3, 4, 5, 1, 2, 3, 1, 2, 3, 4, 2, 3, 4, 1, 2, 3, 1, 2, 3, 4, 5, 1, 2, 4, 5, 1, 2, 3, 4, 5, 1, 2, 4, 1, 2, 3, 4, 5, 1, 2, 3, 4, 5, 2, 3, 4, 2, 4, 1, 2, 3, 4, 5, 1, 2, 3, 4, 5, 1, 2, 3, 5, 2, 4, 1, 2, 3, 4, 5, 1, 2, 3, 4, 2, 3, 4, 5, 1, 2, 3, 4, 5, 1, 2, 4, 5, 1, 2, 5, 1, 2, 3, 4, 1, 2, 3, 4, 5, 1, 2, 3, 5, 1, 2, 3, 4, 5, 1, 2, 3, 4, 5, 1, 5, 1, 2, 3, 4, 5, 1, 2, 3, 4, 5, 1, 2, 4, 1, 2, 3, 5, 1, 2, 3, 4, 5, 2, 3, 4, 5, 1, 2, 3, 4, 5, 1, 2, 3, 4, 5, 1, 2, 3, 4, 5, 1, 2, 3, 4, 5, 1, 2, 3, 4, 5, 1, 2, 3, 4, 1, 2, 3, 4, 5, 1, 2, 3, 4, 5, 1, 2, 3, 4, 1, 2, 4, 1, 2, 3, 4, 5, 1, 2, 4, 5, 1, 2, 3, 4, 5, 1, 2, 3, 4, 5, 1, 2, 4, 5, 1, 2, 4, 1, 2, 4, 1, 2, 3, 4, 5, 1, 2, 5, 1, 2, 3, 4, 5, 1, 2, 3, 4, 5, 1, 2, 3, 4, 5, 1, 2, 3, 4, 5, 1, 2, 5, 1, 2, 3, 4, 5, 1, 2, 3, 4, 5, 1, 2, 3, 4, 5, 1, 2, 3, 4, 5, 1, 2, 3, 4, 5, 1, 2, 4, 5, 1, 2, 3, 4, 5, 1, 2, 3, 4, 5, 1, 3, 4, 5, 2, 4, 5, 2, 3, 4, 1, 2, 3, 4, 5, 1, 2, 3, 4, 5, 1, 2, 4, 2, 3, 4, 1, 2, 3, 4, 5, 1, 2, 3, 5, 1, 2, 3, 4, 5, 1, 2, 3, 4, 1, 2, 3, 4, 5, 1, 2, 3, 4, 5, 1, 2, 3, 5, 1, 2, 3, 4, 5, 1, 2, 3, 4, 5, 1, 2, 3, 4, 5, 1, 2, 3, 4, 5, 1, 2, 3, 4, 5, 2, 3, 4, 5, 1, 2, 3, 4, 1, 2, 3, 4, 5, 1, 2, 3, 4, 5, 1, 2, 3, 5, 1, 2, 1, 2, 3, 4, 5, 1, 3, 4, 5, 1, 4, 5, 1, 2, 3, 4, 1, 2, 3, 4, 1, 2, 3, 4, 5, 1, 2, 5, 1, 2, 3, 4, 5, 1, 2, 3, 4, 5, 1, 2, 3, 4, 5, 1, 2, 4, 5, 1, 2, 3, 4, 5, 1, 2, 3, 4, 5, 1, 4, 5, 1, 2, 3, 4, 5, 1, 2, 3, 4, 5, 1, 2, 3, 5, 2, 4, 5, 1, 2, 3, 4, 1, 2, 3, 4, 5, 1, 2, 3, 4, 5, 1, 2, 3, 4, 5, 1, 2, 3, 4, 5, 1, 2, 3, 4, 5, 1, 2, 3, 4, 5, 1, 2, 3, 4, 5, 1, 2, 3, 4, 5, 1, 2, 3, 5, 1, 3, 5, 1, 2, 3, 4, 5, 1, 2, 3, 4, 5, 1, 2, 3, 4, 5, 2, 3, 4, 1, 2, 3, 1, 2, 3, 5, 1, 2, 3, 1, 2, 4, 5, 1, 2, 4, 1, 3, 4, 5, 1, 2, 3, 4, 5, 1, 2, 3, 4, 5, 1, 2, 3, 4, 5, 1, 2, 3, 4, 5, 1, 2, 3, 4, 1, 2, 3, 4, 5, 1, 2, 3, 4, 5, 1, 2, 3, 4, 5, 1, 2, 3, 5, 1, 2, 3, 4, 5, 1, 2, 3, 4, 5, 1, 2, 4, 1, 2, 3, 4, 5, 1, 2, 4, 5, 1, 2, 3, 4, 2, 3, 4, 5, 1, 2, 3, 4, 1, 2, 4, 5, 1, 2, 3, 4, 5, 1, 2, 3, 4, 5, 1, 2, 3, 4, 5, 1, 2, 3, 4, 5, 1, 2, 3, 4, 1, 2, 3, 4, 5, 1, 2, 3, 5, 1, 2, 4, 5, 1, 2, 3, 4, 1, 2, 3, 4, 5, 1, 2, 5, 1, 2, 3, 5, 1, 2, 3, 4, 5, 1, 2, 3, 5, 1, 2, 4, 1, 2, 4, 5, 1, 2, 3, 4, 5, 1, 2, 3, 4, 1, 2, 3, 4, 1, 2, 3, 4, 1, 2, 3, 4, 5, 1, 2, 3, 4, 1, 2, 3, 4, 5, 1, 2, 3, 4, 5, 1, 2, 5, 1, 2, 4, 5, 1, 2, 3, 4, 1, 2, 4, 5, 1, 2, 3, 4, 5, 1, 2, 3, 4, 5, 1, 2, 3, 4, 5, 1, 2, 3, 4, 5, 1, 2, 4, 5, 1, 2, 3, 4, 1, 2, 3, 4, 5, 2, 4, 1, 2, 3, 4, 5, 1, 2, 3, 4, 5, 1, 2, 3, 4, 5, 1, 2, 3, 4, 5, 2, 4], \"Freq\": [0.12358076870441437, 0.6796942353248596, 0.061790384352207184, 0.18537114560604095, 0.061790384352207184, 0.7466264367103577, 0.22398793697357178, 0.5565536618232727, 0.1353779137134552, 0.16546189785003662, 0.1353779137134552, 0.29438474774360657, 0.6010355353355408, 0.04906412586569786, 0.04906412586569786, 0.08469905704259872, 0.08469905704259872, 0.6775924563407898, 0.08469905704259872, 0.08549225330352783, 0.08549225330352783, 0.6411918997764587, 0.08549225330352783, 0.08549225330352783, 0.33504050970077515, 0.25526896119117737, 0.3190861940383911, 0.023931464180350304, 0.06381724029779434, 0.08617226779460907, 0.38162004947662354, 0.08617226779460907, 0.3446890711784363, 0.09848259389400482, 0.0763491690158844, 0.381745845079422, 0.4580950140953064, 0.5912091732025146, 0.24017873406410217, 0.0061584291979670525, 0.05542585998773575, 0.1108517199754715, 0.4649801254272461, 0.31618648767471313, 0.16739284992218018, 0.03719840943813324, 0.01859920471906662, 0.03978290036320686, 0.6763092875480652, 0.27848029136657715, 0.19778798520565033, 0.09889399260282516, 0.2966820001602173, 0.39557597041130066, 0.6485150456428528, 0.04988577216863632, 0.04988577216863632, 0.1995430886745453, 0.7983465194702148, 0.062093619257211685, 0.053223103284835815, 0.01774103380739689, 0.07096413522958755, 0.4195515215396881, 0.4400174617767334, 0.08186370879411697, 0.05116482079029083, 0.21277275681495667, 0.0580289326608181, 0.6189752817153931, 0.07737191021442413, 0.7267181873321533, 0.10900773108005524, 0.0726718157529831, 0.0726718157529831, 0.5019223690032959, 0.3395357131958008, 0.022143632173538208, 0.07381211221218109, 0.06643089652061462, 0.3394252359867096, 0.2872059643268585, 0.04351605847477913, 0.21758028864860535, 0.10443853586912155, 0.31884676218032837, 0.07085483521223068, 0.6022661328315735, 0.07504737377166748, 0.3001894950866699, 0.5253316164016724, 0.07504737377166748, 0.5625001788139343, 0.17763163149356842, 0.09868423640727997, 0.08881581574678421, 0.0690789669752121, 0.26012712717056274, 0.23647920787334442, 0.1734180897474289, 0.07094376534223557, 0.26012712717056274, 0.22654980421066284, 0.21396370232105255, 0.012586100026965141, 0.35241079330444336, 0.20137760043144226, 0.17381423711776733, 0.260721355676651, 0.16139893233776093, 0.33521318435668945, 0.07449181377887726, 0.10938338935375214, 0.8203754425048828, 0.05469169467687607, 0.17467689514160156, 0.049907684326171875, 0.5739383697509766, 0.049907684326171875, 0.14972305297851562, 0.4171257019042969, 0.13904190063476562, 0.34760475158691406, 0.7786949872970581, 0.0730026587843895, 0.024334218353033066, 0.012167109176516533, 0.10950398445129395, 0.6748449206352234, 0.1499655395746231, 0.07498276978731155, 0.07498276978731155, 0.20424680411815643, 0.5941725373268127, 0.09283945709466934, 0.09283945709466934, 0.22087545692920685, 0.3092256486415863, 0.1325252652168274, 0.3092256486415863, 0.7754210829734802, 0.1292368471622467, 0.06461842358112335, 0.06461842358112335, 0.24741163849830627, 0.17672260105609894, 0.1060335636138916, 0.4594787657260895, 0.03534451872110367, 0.15180404484272003, 0.07590202242136002, 0.30360808968544006, 0.4554121196269989, 0.28638744354248047, 0.4295811653137207, 0.12116391956806183, 0.09913411736488342, 0.06608941406011581, 0.032254889607429504, 0.16127444803714752, 0.38705867528915405, 0.41931354999542236, 0.31517940759658813, 0.24513952434062958, 0.1750996708869934, 0.24513952434062958, 0.6465238332748413, 0.27297672629356384, 0.07183597981929779, 0.014367195777595043, 0.014367195777595043, 0.5074863433837891, 0.19665095210075378, 0.17127664387226105, 0.09515368938446045, 0.025374317541718483, 0.7802231311798096, 0.1950557827949524, 0.5976349711418152, 0.31126824021339417, 0.04980291798710823, 0.012450729496777058, 0.024901458993554115, 0.3060252368450165, 0.11475946009159088, 0.2677720785140991, 0.03825315460562706, 0.2677720785140991, 0.7006137371063232, 0.14012275636196136, 0.04670758172869682, 0.04670758172869682, 0.09341516345739365, 0.16337352991104126, 0.5627310872077942, 0.12706831097602844, 0.12706831097602844, 0.184219628572464, 0.30145031213760376, 0.44101062417030334, 0.04465930536389351, 0.033494479954242706, 0.24898667633533478, 0.4753382205963135, 0.20371638238430023, 0.056587882339954376, 0.02263515256345272, 0.2712576985359192, 0.3066391348838806, 0.22408244013786316, 0.05896906182169914, 0.1415257453918457, 0.5959872007369995, 0.19484196603298187, 0.12607420980930328, 0.011461292393505573, 0.06876774877309799, 0.05644555017352104, 0.11289110034704208, 0.2822277545928955, 0.22578220069408417, 0.2822277545928955, 0.6873814463615417, 0.22912715375423431, 0.3287610411643982, 0.1643805205821991, 0.2417360544204712, 0.019338885322213173, 0.2417360544204712, 0.7065092921257019, 0.10869374126195908, 0.10869374126195908, 0.10869374126195908, 0.7848853468894958, 0.04616972804069519, 0.04616972804069519, 0.09233945608139038, 0.14940252900123596, 0.22410379350185394, 0.2988050580024719, 0.2988050580024719, 0.0809810534119606, 0.21594946086406708, 0.35091787576675415, 0.0809810534119606, 0.2429431527853012, 0.15339843928813934, 0.07669921964406967, 0.23009765148162842, 0.5368945002555847, 0.07669921964406967, 0.2607725262641907, 0.04346209019422531, 0.6084692478179932, 0.04346209019422531, 0.14521944522857666, 0.19362592697143555, 0.5808777809143066, 0.09681296348571777, 0.30742862820625305, 0.23509249091148376, 0.17179834842681885, 0.19892440736293793, 0.08137816935777664, 0.13900919258594513, 0.8340551853179932, 0.15462753176689148, 0.6571670174598694, 0.03865688294172287, 0.03865688294172287, 0.11597064882516861, 0.12757529318332672, 0.11162838339805603, 0.733557939529419, 0.01594691164791584, 0.08572529256343842, 0.4286264479160309, 0.2250288873910904, 0.20359757542610168, 0.05357830598950386, 0.14567288756370544, 0.2427881509065628, 0.5017621517181396, 0.07283644378185272, 0.032371751964092255, 0.2694677412509918, 0.25406956672668457, 0.33106034994125366, 0.10008801519870758, 0.038495391607284546, 0.12937866151332855, 0.3293275237083435, 0.5292763710021973, 0.03067563846707344, 0.6748640537261963, 0.2147294580936432, 0.09202691167593002, 0.1364099234342575, 0.20461487770080566, 0.682049572467804, 0.04697664454579353, 0.7046496272087097, 0.23488321900367737, 0.3250750005245209, 0.25283610820770264, 0.29798540472984314, 0.07223888486623764, 0.06320902705192566, 0.7864076495170593, 0.09251854568719864, 0.06938891112804413, 0.04625927284359932, 0.22315935790538788, 0.24547529220581055, 0.15621155500411987, 0.05578983947634697, 0.31242311000823975, 0.4828943908214569, 0.06898491084575653, 0.4139094948768616, 0.3074680268764496, 0.29170042276382446, 0.3074680268764496, 0.04730277135968208, 0.04730277135968208, 0.2445552498102188, 0.177858367562294, 0.3890651762485504, 0.1222776249051094, 0.0778130367398262, 0.8979653716087341, 0.04988696426153183, 0.04988696426153183, 0.9223381280899048, 0.041924457997083664, 0.1536559909582138, 0.02560933120548725, 0.6146239638328552, 0.1792653203010559, 0.0512186624109745, 0.2823749780654907, 0.3388499915599823, 0.11294998973608017, 0.056474994868040085, 0.20707498490810394, 0.3820328116416931, 0.031836070120334625, 0.28652462363243103, 0.28652462363243103, 0.4366593360900879, 0.5822124481201172, 0.0648457407951355, 0.129691481590271, 0.5836116671562195, 0.0648457407951355, 0.129691481590271, 0.05103312432765961, 0.12758281826972961, 0.6889472007751465, 0.10206624865531921, 0.1821710765361786, 0.0910855382680893, 0.45542770624160767, 0.1821710765361786, 0.05166129767894745, 0.1033225953578949, 0.6199355721473694, 0.15498389303684235, 0.05166129767894745, 0.048686832189559937, 0.837413489818573, 0.029212098568677902, 0.087636299431324, 0.6921063661575317, 0.1821332573890686, 0.10927995294332504, 0.23947958648204803, 0.015965305268764496, 0.6066816449165344, 0.11175714433193207, 0.3535933196544647, 0.21429899334907532, 0.22501394152641296, 0.03214484825730324, 0.18215413391590118, 0.40734612941741943, 0.13578204810619354, 0.20367306470870972, 0.2715640962123871, 0.05711395666003227, 0.7139244079589844, 0.028556978330016136, 0.17134186625480652, 0.05711395666003227, 0.019820434972643852, 0.35676783323287964, 0.19820435345172882, 0.35676783323287964, 0.039640869945287704, 0.8296018838882446, 0.13826698064804077, 0.02976999431848526, 0.46143490076065063, 0.11907997727394104, 0.2976999282836914, 0.08930998295545578, 0.06684646010398865, 0.033423230051994324, 0.00371369207277894, 0.8838587403297424, 0.011141076683998108, 0.2561938464641571, 0.6404845714569092, 0.06404846161603928, 0.1350804716348648, 0.22513411939144135, 0.5853486657142639, 0.04502682387828827, 0.04553251713514328, 0.18213006854057312, 0.09106503427028656, 0.5919227600097656, 0.04553251713514328, 0.13547973334789276, 0.03386993333697319, 0.06773986667394638, 0.7620735168457031, 0.6468326449394226, 0.09951271116733551, 0.049756355583667755, 0.09951271116733551, 0.14926907420158386, 0.1623067855834961, 0.08115339279174805, 0.28403687477111816, 0.40576696395874023, 0.04057669639587402, 0.0416245274245739, 0.45786982774734497, 0.0416245274245739, 0.249747171998024, 0.249747171998024, 0.10814937204122543, 0.02703734301030636, 0.6218588948249817, 0.16222406923770905, 0.05407468602061272, 0.2648882567882538, 0.1324441283941269, 0.24596765637397766, 0.05676176771521568, 0.30272942781448364, 0.12624593079090118, 0.16832789778709412, 0.6312296390533447, 0.04208197444677353, 0.4824579060077667, 0.16928347945213318, 0.13542678952217102, 0.18621182441711426, 0.025392521172761917, 0.04178871586918831, 0.08357743173837662, 0.10447178781032562, 0.10447178781032562, 0.6895138025283813, 0.29525068402290344, 0.07381267100572586, 0.5905013680458069, 0.03690633550286293, 0.07747262716293335, 0.23241786658763885, 0.6197810173034668, 0.13371285796165466, 0.2273118495941162, 0.4546236991882324, 0.053485143929719925, 0.12034156918525696, 0.15284201502799988, 0.3821050226688385, 0.07642100751399994, 0.30568403005599976, 0.16817641258239746, 0.34624555706977844, 0.3264600932598114, 0.12860549986362457, 0.029678191989660263, 0.20310567319393158, 0.2843479514122009, 0.10155283659696579, 0.3859007656574249, 0.040621135383844376, 0.7522675395011902, 0.05786673352122307, 0.11573346704244614, 0.11573346704244614, 0.21301428973674774, 0.21301428973674774, 0.49703335762023926, 0.04989849776029587, 0.8981729745864868, 0.04989849776029587, 0.13785579800605774, 0.13785579800605774, 0.6586443185806274, 0.015317310579121113, 0.045951928943395615, 0.1567823439836502, 0.6793901324272156, 0.1567823439836502, 0.22406373918056488, 0.29128286242485046, 0.38090837001800537, 0.059750329703092575, 0.04481274634599686, 0.5757603049278259, 0.15275274217128754, 0.07050126045942307, 0.12925231456756592, 0.07050126045942307, 0.14269447326660156, 0.4171069264411926, 0.032929494976997375, 0.3402714431285858, 0.07683549076318741, 0.1109369620680809, 0.30111461877822876, 0.15848137438297272, 0.36450716853141785, 0.047544412314891815, 0.7342110276222229, 0.14684221148490906, 0.09789480268955231, 0.11906681209802628, 0.15875574946403503, 0.1786002218723297, 0.4564227759838104, 0.07937787473201752, 0.19607709348201752, 0.41053640842437744, 0.09191113710403442, 0.28798824548721313, 0.018382227048277855, 0.04655200242996216, 0.39569202065467834, 0.24439799785614014, 0.12801800668239594, 0.18620800971984863, 0.055377911776304245, 0.4753270745277405, 0.11537064611911774, 0.35072675347328186, 0.009229651652276516, 0.6567606329917908, 0.13135212659835815, 0.06567606329917908, 0.06567606329917908, 0.06567606329917908, 0.19149738550186157, 0.7085403203964233, 0.07659894973039627, 0.019149737432599068, 0.27858951687812805, 0.32502108812332153, 0.13929475843906403, 0.12768685817718506, 0.12768685817718506, 0.18462787568569183, 0.5641407370567322, 0.01025710441172123, 0.21539919078350067, 0.02051420882344246, 0.3982895314693451, 0.1593158096075058, 0.1593158096075058, 0.2389737218618393, 0.46546807885169983, 0.46546807885169983, 0.05171867832541466, 0.068634532392025, 0.7549798488616943, 0.20590358972549438, 0.5792040824890137, 0.11108022928237915, 0.2777005732059479, 0.023802906274795532, 0.00793430209159851, 0.27303385734558105, 0.18615944683551788, 0.1613381803035736, 0.3474976420402527, 0.024821259081363678, 0.6842552423477173, 0.06220502033829689, 0.24882008135318756, 0.08931363373994827, 0.3572545349597931, 0.5358818173408508, 0.7702966928482056, 0.05312390998005867, 0.12395578622817993, 0.008853984996676445, 0.044269923120737076, 0.11402840167284012, 0.2565639019012451, 0.6129026412963867, 0.014253550209105015, 0.17395126819610596, 0.5363497138023376, 0.13771142065525055, 0.05073578283190727, 0.10871953517198563, 0.3746722638607025, 0.2305675446987152, 0.0144104715436697, 0.3746722638607025, 0.6327177882194519, 0.15225829184055328, 0.02368462271988392, 0.060903314501047134, 0.13195718824863434, 0.09118803590536118, 0.13678206503391266, 0.04559401795268059, 0.5927222371101379, 0.09118803590536118, 0.10382365435361862, 0.3893387019634247, 0.12977956235408783, 0.3633827865123749, 0.23065230250358582, 0.2498733401298523, 0.2979258894920349, 0.07688410580158234, 0.1345471739768982, 0.2330223023891449, 0.5178273320198059, 0.12945683300495148, 0.05178273469209671, 0.06904364377260208, 0.6063601970672607, 0.0645064041018486, 0.24512434005737305, 0.012901281006634235, 0.07740768790245056, 0.48075953125953674, 0.21209979057312012, 0.14139986038208008, 0.04948995262384415, 0.11311988532543182, 0.4068572521209717, 0.3212031126022339, 0.021413540467619896, 0.08565416187047958, 0.19272185862064362, 0.37526148557662964, 0.3411468267440796, 0.03411468118429184, 0.2729174494743347, 0.04087820649147034, 0.12263461947441101, 0.6949294805526733, 0.12263461947441101, 0.33639973402023315, 0.21024984121322632, 0.15768738090991974, 0.27332478761672974, 0.021024983376264572, 0.7135292887687683, 0.06342482566833496, 0.19027447700500488, 0.01585620641708374, 0.03171241283416748, 0.07044164836406708, 0.2817665934562683, 0.5987539887428284, 0.03522082418203354, 0.8043385148048401, 0.16086770594120026, 0.07434241473674774, 0.5080065131187439, 0.3593216836452484, 0.02478080615401268, 0.02478080615401268, 0.45896995067596436, 0.20398664474487305, 0.05099666118621826, 0.30597996711730957, 0.7842105031013489, 0.06535087525844574, 0.13070175051689148, 0.0626860037446022, 0.22984866797924042, 0.6268600225448608, 0.0835813358426094, 0.21705923974514008, 0.09302539378404617, 0.21705923974514008, 0.46512696146965027, 0.6361828446388245, 0.18772608041763306, 0.03128768131136894, 0.06257536262273788, 0.08343381434679031, 0.7648561596870422, 0.139064759016037, 0.0695323795080185, 0.06846777349710464, 0.2533307671546936, 0.5614357590675354, 0.08900810778141022, 0.03423388674855232, 0.054925426840782166, 0.5584084987640381, 0.08238814026117325, 0.28378137946128845, 0.009154237806797028, 0.21534650027751923, 0.16565115749835968, 0.3809976577758789, 0.016565116122364998, 0.19878138601779938, 0.2554563581943512, 0.1021825447678566, 0.5620039701461792, 0.0510912723839283, 0.31151747703552246, 0.03279131278395653, 0.5410566926002502, 0.08197828382253647, 0.016395656391978264, 0.32609570026397705, 0.5087093114852905, 0.06521914154291153, 0.07826296985149384, 0.013043828308582306, 0.4563865065574646, 0.4563865065574646, 0.06519807130098343, 0.06455019861459732, 0.5348445177078247, 0.17520767450332642, 0.16598622500896454, 0.055328741669654846, 0.2636291980743408, 0.49430474638938904, 0.0329536497592926, 0.049430474638938904, 0.18124507367610931, 0.7588035464286804, 0.05990554392337799, 0.019968513399362564, 0.1597481071949005, 0.7355921864509583, 0.08173245936632156, 0.16346491873264313, 0.261894166469574, 0.39284127950668335, 0.013094709254801273, 0.34046244621276855, 0.021605536341667175, 0.4537162780761719, 0.0864221453666687, 0.38889965415000916, 0.06481660902500153, 0.1082860454916954, 0.6713734865188599, 0.08662883937358856, 0.08662883937358856, 0.02165720984339714, 0.01562855951488018, 0.5938852429389954, 0.12502847611904144, 0.21879982948303223, 0.04688567668199539, 0.026584474369883537, 0.1860913187265396, 0.6114429235458374, 0.10633789747953415, 0.07975342124700546, 0.20034082233905792, 0.2556072473526001, 0.27633216977119446, 0.10362455993890762, 0.1588909924030304, 0.06947268545627594, 0.19297967851161957, 0.6561309099197388, 0.061753496527671814, 0.015438374131917953, 0.08507402241230011, 0.5151704549789429, 0.17960070073604584, 0.17487436532974243, 0.04726334288716316, 0.18922367691993713, 0.11644534766674042, 0.6404494047164917, 0.029111336916685104, 0.014555668458342552, 0.8043496012687683, 0.08043496310710907, 0.02681165374815464, 0.05362330749630928, 0.20059415698051453, 0.7020795941352844, 0.05014853924512863, 0.03817969933152199, 0.6914768218994141, 0.10605472326278687, 0.14423443377017975, 0.021210944280028343, 0.10562030225992203, 0.35646852850914, 0.07921522855758667, 0.4092786908149719, 0.039607614278793335, 0.17332115769386292, 0.21665143966674805, 0.31775546073913574, 0.11554743349552155, 0.17332115769386292, 0.04469273239374161, 0.8044692277908325, 0.13407820463180542, 0.14440874755382538, 0.21661311388015747, 0.6498393416404724, 0.14455625414848328, 0.14455625414848328, 0.6505031585693359, 0.07227812707424164, 0.09629319608211517, 0.24073299765586853, 0.6259057521820068, 0.6760923862457275, 0.16902309656143188, 0.08451154828071594, 0.08451154828071594, 0.23605120182037354, 0.7081536054611206, 0.039341866970062256, 0.06427313387393951, 0.7070044875144958, 0.06427313387393951, 0.19281941652297974, 0.3569493591785431, 0.16317684948444366, 0.23456671833992004, 0.19377250969409943, 0.05099276453256607, 0.19392552971839905, 0.03878510743379593, 0.3878510594367981, 0.07757021486759186, 0.31028085947036743, 0.25518175959587097, 0.22425062954425812, 0.2783800959587097, 0.17785394191741943, 0.061862241476774216, 0.06581442058086395, 0.23035047948360443, 0.6581442356109619, 0.032907210290431976, 0.032907210290431976, 0.14117978513240814, 0.7529588341712952, 0.04705992713570595, 0.04705992713570595, 0.02767236903309822, 0.19370658695697784, 0.2490513175725937, 0.4981026351451874, 0.02767236903309822, 0.0729401484131813, 0.3647007346153259, 0.25529050827026367, 0.0729401484131813, 0.25529050827026367, 0.16264614462852478, 0.17515738308429718, 0.20017987489700317, 0.07506745308637619, 0.40035974979400635, 0.16035082936286926, 0.16035082936286926, 0.40087705850601196, 0.3207016587257385, 0.06782649457454681, 0.3240599036216736, 0.3391324579715729, 0.2637696862220764, 0.007536277174949646, 0.40262478590011597, 0.11273493617773056, 0.37846729159355164, 0.016104990616440773, 0.09662994742393494, 0.6783302426338196, 0.18499916791915894, 0.06166638806462288, 0.20697258412837982, 0.20697258412837982, 0.1241835504770279, 0.3518534004688263, 0.08278903365135193, 0.17745482921600342, 0.35490965843200684, 0.22181853652000427, 0.22181853652000427, 0.11440780013799667, 0.05720390006899834, 0.572039008140564, 0.22881560027599335, 0.10471978038549423, 0.15707966685295105, 0.6806785464286804, 0.052359890192747116, 0.02588161639869213, 0.9058566093444824, 0.012940808199346066, 0.05176323279738426, 0.09494394809007645, 0.6171356439590454, 0.2690078318119049, 0.01582399010658264, 0.3208199739456177, 0.3537245988845825, 0.15629690885543823, 0.07403538376092911, 0.09048768877983093, 0.5767844319343567, 0.10132699459791183, 0.01948595978319645, 0.2844950258731842, 0.01558876782655716, 0.58395916223526, 0.04027304798364639, 0.04832765832543373, 0.11679183691740036, 0.209419846534729, 0.5989833474159241, 0.1480633020401001, 0.1749839037656784, 0.01346029993146658, 0.06730149686336517, 0.2101220190525055, 0.14008134603500366, 0.5603253841400146, 0.0840488076210022, 0.5678492188453674, 0.09244056791067123, 0.3169390857219696, 0.013205795548856258, 0.013205795548856258, 0.04307997226715088, 0.0775439441204071, 0.8702154159545898, 0.008615993894636631, 0.2502031922340393, 0.6533083319664001, 0.01390017755329609, 0.08340106159448624, 0.34834957122802734, 0.10450487583875656, 0.06966991722583771, 0.4528544545173645, 0.3210444152355194, 0.4615013301372528, 0.06019582599401474, 0.11035902053117752, 0.05016319081187248, 0.18734103441238403, 0.6556936502456665, 0.09367051720619202, 0.22593705356121063, 0.06455344706773758, 0.6455344557762146, 0.03227672353386879, 0.2332502156496048, 0.32655030488967896, 0.25657522678375244, 0.1166251078248024, 0.06220005452632904, 0.10883072763681412, 0.471599817276001, 0.14510764181613922, 0.25393837690353394, 0.08343291282653809, 0.8343291282653809, 0.04171645641326904, 0.2954656183719635, 0.14773280918598175, 0.44319841265678406, 0.11818624287843704, 0.8942080140113831, 0.028845420107245445, 0.028845420107245445, 0.028845420107245445, 0.028845420107245445, 0.07461205869913101, 0.7088145613670349, 0.07461205869913101, 0.11191808432340622, 0.3313601315021515, 0.03681779280304909, 0.570675790309906, 0.05522668734192848, 0.03615880385041237, 0.6870173215866089, 0.18079403042793274, 0.1084764152765274, 0.2216290980577469, 0.26192528009414673, 0.3828139007091522, 0.08059240132570267, 0.040296200662851334, 0.25604286789894104, 0.7169200778007507, 0.051208578050136566, 0.051208578050136566, 0.3351702094078064, 0.29494979977607727, 0.2011021226644516, 0.02681361697614193, 0.16088169813156128, 0.4713706970214844, 0.057484228163957596, 0.2874211370944977, 0.04598738253116608, 0.126465305685997, 0.40253594517707825, 0.08050718903541565, 0.4830431342124939, 0.010695111937820911, 0.957212507724762, 0.02673777937889099, 0.005347555968910456, 0.11765483021736145, 0.058827415108680725, 0.35296449065208435, 0.4706193208694458, 0.2776632606983185, 0.16197024285793304, 0.4396335184574127, 0.11569303274154663, 0.07163429260253906, 0.7521600723266602, 0.1074514389038086, 0.03581714630126953, 0.03581714630126953, 0.3646272122859955, 0.18231360614299774, 0.05609649419784546, 0.29450660943984985, 0.09816886484622955, 0.28576982021331787, 0.5865801572799683, 0.03008103370666504, 0.01504051685333252, 0.0752025842666626, 0.17273738980293274, 0.17273738980293274, 0.5374051928520203, 0.09596521407365799, 0.019193043932318687, 0.06470520049333572, 0.4205838143825531, 0.2426445037126541, 0.27499711513519287, 0.06292619556188583, 0.25170478224754333, 0.1887785792350769, 0.44048336148262024, 0.2120296061038971, 0.2827061414718628, 0.1413530707359314, 0.3062649667263031, 0.05889711156487465, 0.6570720076560974, 0.3112446367740631, 0.5553373098373413, 0.19089719653129578, 0.017354290932416916, 0.19089719653129578, 0.05206286907196045, 0.5812742114067078, 0.22990696132183075, 0.060730140656232834, 0.05205440893769264, 0.07808160781860352, 0.16671966016292572, 0.48428094387054443, 0.21435385942459106, 0.10320740938186646, 0.03175612539052963, 0.4755993187427521, 0.1717441976070404, 0.07926655560731888, 0.07926655560731888, 0.1981663852930069, 0.6941432356834412, 0.2669781744480133], \"Term\": [\"abuse\", \"abuse\", \"abuse\", \"abuse\", \"abuse\", \"accept\", \"accept\", \"accordance\", \"accordance\", \"accordance\", \"accordance\", \"accounts\", \"accounts\", \"accounts\", \"accounts\", \"accuracy\", \"accuracy\", \"accuracy\", \"accuracy\", \"act\", \"act\", \"act\", \"act\", \"act\", \"activities\", \"activities\", \"activities\", \"activities\", \"activities\", \"activity\", \"activity\", \"activity\", \"activity\", \"activity\", \"actual\", \"actual\", \"actual\", \"ad\", \"ad\", \"ad\", \"ad\", \"ad\", \"additional\", \"additional\", \"additional\", \"additional\", \"additional\", \"additionally\", \"additionally\", \"additionally\", \"adhere\", \"adhere\", \"adhere\", \"adhere\", \"administrative\", \"administrative\", \"administrative\", \"administrative\", \"advertisements\", \"advertisements\", \"advertisements\", \"advertisements\", \"advertisements\", \"advertisers\", \"advertisers\", \"advertisers\", \"advertisers\", \"agencies\", \"agencies\", \"agencies\", \"agencies\", \"alliance\", \"alliance\", \"alliance\", \"alliance\", \"allow\", \"allow\", \"allow\", \"allow\", \"allow\", \"analytics\", \"analytics\", \"analytics\", \"analytics\", \"analytics\", \"anonymous\", \"anonymous\", \"anonymous\", \"appear\", \"appear\", \"appear\", \"appear\", \"applications\", \"applications\", \"applications\", \"applications\", \"applications\", \"apps\", \"apps\", \"apps\", \"apps\", \"apps\", \"ask\", \"ask\", \"ask\", \"ask\", \"ask\", \"associated\", \"associated\", \"associated\", \"associated\", \"associated\", \"authorize\", \"authorize\", \"authorize\", \"automated\", \"automated\", \"automated\", \"automated\", \"automated\", \"back\", \"back\", \"back\", \"beacons\", \"beacons\", \"beacons\", \"beacons\", \"beacons\", \"birth\", \"birth\", \"birth\", \"birth\", \"businesses\", \"businesses\", \"businesses\", \"businesses\", \"buy\", \"buy\", \"buy\", \"buy\", \"campaigns\", \"campaigns\", \"campaigns\", \"campaigns\", \"categories\", \"categories\", \"categories\", \"categories\", \"categories\", \"cell\", \"cell\", \"cell\", \"cell\", \"change\", \"change\", \"change\", \"change\", \"change\", \"chat\", \"chat\", \"chat\", \"chat\", \"check\", \"check\", \"check\", \"check\", \"children\", \"children\", \"children\", \"children\", \"children\", \"choices\", \"choices\", \"choices\", \"choices\", \"choices\", \"clauses\", \"clauses\", \"click\", \"click\", \"click\", \"click\", \"click\", \"clicking\", \"clicking\", \"clicking\", \"clicking\", \"clicking\", \"collectively\", \"collectively\", \"collectively\", \"collectively\", \"collectively\", \"comments\", \"comments\", \"comments\", \"comments\", \"communications\", \"communications\", \"communications\", \"communications\", \"communications\", \"company\", \"company\", \"company\", \"company\", \"company\", \"comply\", \"comply\", \"comply\", \"comply\", \"comply\", \"computer\", \"computer\", \"computer\", \"computer\", \"computer\", \"concerns\", \"concerns\", \"concerns\", \"concerns\", \"concerns\", \"conjunction\", \"conjunction\", \"connection\", \"connection\", \"connection\", \"connection\", \"connection\", \"considered\", \"considered\", \"considered\", \"considered\", \"contain\", \"contain\", \"contain\", \"contain\", \"contents\", \"contents\", \"contents\", \"contents\", \"contract\", \"contract\", \"contract\", \"contract\", \"contract\", \"contractors\", \"contractors\", \"contractors\", \"contractors\", \"contractors\", \"controlled\", \"controlled\", \"controlled\", \"controlled\", \"controls\", \"controls\", \"controls\", \"controls\", \"cookie\", \"cookie\", \"cookie\", \"cookie\", \"cookie\", \"copies\", \"copies\", \"copy\", \"copy\", \"copy\", \"copy\", \"copy\", \"corporate\", \"corporate\", \"corporate\", \"corporate\", \"create\", \"create\", \"create\", \"create\", \"create\", \"credit\", \"credit\", \"credit\", \"credit\", \"credit\", \"customer\", \"customer\", \"customer\", \"customer\", \"customer\", \"customers\", \"customers\", \"customers\", \"days\", \"days\", \"days\", \"days\", \"destruction\", \"destruction\", \"destruction\", \"developer\", \"developer\", \"developer\", \"devices\", \"devices\", \"devices\", \"devices\", \"devices\", \"digital\", \"digital\", \"digital\", \"digital\", \"directly\", \"directly\", \"directly\", \"directly\", \"directly\", \"disabled\", \"disabled\", \"disabled\", \"disclose\", \"disclose\", \"disclose\", \"disclose\", \"disclose\", \"disclosure\", \"disclosure\", \"disclosure\", \"disclosure\", \"disclosure\", \"dispute\", \"dispute\", \"dispute\", \"download\", \"download\", \"edit\", \"edit\", \"edit\", \"edit\", \"edit\", \"eea\", \"eea\", \"eea\", \"eea\", \"eea\", \"electronic\", \"electronic\", \"electronic\", \"electronic\", \"engines\", \"engines\", \"erasure\", \"erasure\", \"erasure\", \"erasure\", \"erasure\", \"experiences\", \"experiences\", \"experiences\", \"experiences\", \"explicit\", \"explicit\", \"explicit\", \"explicit\", \"external\", \"external\", \"external\", \"external\", \"external\", \"facebook\", \"facebook\", \"facebook\", \"facebook\", \"facilitate\", \"facilitate\", \"facilitate\", \"family\", \"family\", \"family\", \"family\", \"financial\", \"financial\", \"financial\", \"financial\", \"financial\", \"forms\", \"forms\", \"forms\", \"forms\", \"friends\", \"friends\", \"friends\", \"friends\", \"friends\", \"get\", \"get\", \"get\", \"get\", \"get\", \"gifs\", \"gifs\", \"give\", \"give\", \"give\", \"give\", \"give\", \"google\", \"google\", \"google\", \"google\", \"google\", \"govern\", \"govern\", \"govern\", \"government\", \"government\", \"government\", \"government\", \"governmental\", \"governmental\", \"governmental\", \"governmental\", \"governmental\", \"group\", \"group\", \"group\", \"group\", \"guarantee\", \"guarantee\", \"guarantee\", \"guarantee\", \"guarantee\", \"hardware\", \"hardware\", \"hardware\", \"hardware\", \"hardware\", \"harm\", \"harm\", \"harm\", \"harm\", \"harm\", \"hold\", \"hold\", \"hold\", \"hold\", \"hold\", \"id\", \"id\", \"id\", \"id\", \"id\", \"identification\", \"identification\", \"identification\", \"identification\", \"identifiers\", \"identifiers\", \"identifiers\", \"identifiers\", \"identifiers\", \"identifies\", \"identifies\", \"identifies\", \"identifies\", \"identifies\", \"iii\", \"iii\", \"iii\", \"iii\", \"immediately\", \"immediately\", \"immediately\", \"inc\", \"inc\", \"inc\", \"inc\", \"inc\", \"included\", \"included\", \"included\", \"included\", \"includes\", \"includes\", \"includes\", \"includes\", \"includes\", \"individuals\", \"individuals\", \"individuals\", \"individuals\", \"individuals\", \"initiative\", \"initiative\", \"initiative\", \"initiative\", \"install\", \"install\", \"install\", \"integrity\", \"integrity\", \"integrity\", \"interactions\", \"interactions\", \"interactions\", \"interactions\", \"interactions\", \"interested\", \"interested\", \"interested\", \"interests\", \"interests\", \"interests\", \"interests\", \"interests\", \"internet\", \"internet\", \"internet\", \"internet\", \"internet\", \"keep\", \"keep\", \"keep\", \"keep\", \"keep\", \"know\", \"know\", \"know\", \"know\", \"know\", \"knowingly\", \"knowingly\", \"knowingly\", \"language\", \"language\", \"language\", \"language\", \"language\", \"learn\", \"learn\", \"learn\", \"learn\", \"learn\", \"legitimate\", \"legitimate\", \"legitimate\", \"legitimate\", \"legitimate\", \"like\", \"like\", \"like\", \"like\", \"like\", \"likely\", \"likely\", \"likely\", \"likely\", \"likely\", \"limit\", \"limit\", \"limit\", \"limit\", \"link\", \"link\", \"link\", \"link\", \"link\", \"log\", \"log\", \"log\", \"log\", \"log\", \"logging\", \"logging\", \"logging\", \"logging\", \"logs\", \"logs\", \"logs\", \"loss\", \"loss\", \"loss\", \"mail\", \"mail\", \"mail\", \"mail\", \"mail\", \"many\", \"many\", \"many\", \"many\", \"many\", \"materials\", \"materials\", \"materials\", \"matter\", \"matter\", \"matter\", \"media\", \"media\", \"media\", \"media\", \"media\", \"members\", \"members\", \"members\", \"members\", \"messages\", \"messages\", \"messages\", \"messages\", \"messages\", \"might\", \"might\", \"might\", \"might\", \"mobile\", \"mobile\", \"mobile\", \"mobile\", \"mobile\", \"model\", \"model\", \"model\", \"model\", \"model\", \"must\", \"must\", \"must\", \"must\", \"need\", \"need\", \"need\", \"need\", \"need\", \"network\", \"network\", \"network\", \"network\", \"network\", \"networks\", \"networks\", \"networks\", \"networks\", \"networks\", \"notice\", \"notice\", \"notice\", \"notice\", \"notice\", \"notices\", \"notices\", \"notices\", \"notices\", \"notices\", \"object\", \"object\", \"object\", \"object\", \"obtained\", \"obtained\", \"obtained\", \"obtained\", \"offer\", \"offer\", \"offer\", \"offer\", \"offer\", \"offers\", \"offers\", \"offers\", \"offers\", \"offers\", \"officer\", \"officer\", \"officer\", \"officer\", \"offline\", \"offline\", \"operate\", \"operate\", \"operate\", \"operate\", \"operate\", \"opting\", \"opting\", \"opting\", \"opting\", \"org\", \"org\", \"org\", \"organization\", \"organization\", \"organization\", \"organization\", \"organizations\", \"organizations\", \"organizations\", \"organizations\", \"pages\", \"pages\", \"pages\", \"pages\", \"pages\", \"parental\", \"parental\", \"parental\", \"payment\", \"payment\", \"payment\", \"payment\", \"payment\", \"people\", \"people\", \"people\", \"people\", \"people\", \"performance\", \"performance\", \"performance\", \"performance\", \"performance\", \"period\", \"period\", \"period\", \"period\", \"permitted\", \"permitted\", \"permitted\", \"permitted\", \"permitted\", \"personalize\", \"personalize\", \"personalize\", \"personalize\", \"personalize\", \"persons\", \"persons\", \"persons\", \"phone\", \"phone\", \"phone\", \"phone\", \"phone\", \"platform\", \"platform\", \"platform\", \"platform\", \"platform\", \"platforms\", \"platforms\", \"platforms\", \"platforms\", \"portability\", \"portability\", \"portability\", \"post\", \"post\", \"post\", \"post\", \"posts\", \"posts\", \"posts\", \"posts\", \"posts\", \"principles\", \"principles\", \"principles\", \"principles\", \"principles\", \"private\", \"private\", \"private\", \"private\", \"private\", \"processes\", \"processes\", \"processes\", \"processes\", \"processes\", \"processing\", \"processing\", \"processing\", \"processing\", \"processing\", \"product\", \"product\", \"product\", \"product\", \"product\", \"profile\", \"profile\", \"profile\", \"profile\", \"profile\", \"promotional\", \"promotional\", \"promotional\", \"promotional\", \"promotional\", \"promotions\", \"promotions\", \"promotions\", \"promotions\", \"provision\", \"provision\", \"provision\", \"public\", \"public\", \"public\", \"public\", \"public\", \"publicly\", \"publicly\", \"publicly\", \"publicly\", \"publicly\", \"purpose\", \"purpose\", \"purpose\", \"purpose\", \"purpose\", \"queries\", \"queries\", \"queries\", \"range\", \"range\", \"range\", \"ratings\", \"ratings\", \"ratings\", \"ratings\", \"recipients\", \"recipients\", \"recipients\", \"recognize\", \"recognize\", \"recognize\", \"recognize\", \"recommend\", \"recommend\", \"recommend\", \"recorded\", \"recorded\", \"recorded\", \"recorded\", \"regarding\", \"regarding\", \"regarding\", \"regarding\", \"regarding\", \"relating\", \"relating\", \"relating\", \"relating\", \"relating\", \"relevant\", \"relevant\", \"relevant\", \"relevant\", \"relevant\", \"reports\", \"reports\", \"reports\", \"reports\", \"reports\", \"resolution\", \"resolution\", \"resolution\", \"resolution\", \"results\", \"results\", \"results\", \"results\", \"results\", \"reviews\", \"reviews\", \"reviews\", \"reviews\", \"reviews\", \"right\", \"right\", \"right\", \"right\", \"right\", \"safeguard\", \"safeguard\", \"safeguard\", \"safeguard\", \"search\", \"search\", \"search\", \"search\", \"search\", \"section\", \"section\", \"section\", \"section\", \"section\", \"served\", \"served\", \"served\", \"servers\", \"servers\", \"servers\", \"servers\", \"servers\", \"session\", \"session\", \"session\", \"session\", \"several\", \"several\", \"several\", \"several\", \"sexual\", \"sexual\", \"sexual\", \"sexual\", \"shield\", \"shield\", \"shield\", \"shield\", \"show\", \"show\", \"show\", \"show\", \"similar\", \"similar\", \"similar\", \"similar\", \"similar\", \"site\", \"site\", \"site\", \"site\", \"site\", \"sites\", \"sites\", \"sites\", \"sites\", \"sites\", \"social\", \"social\", \"social\", \"social\", \"social\", \"software\", \"software\", \"software\", \"software\", \"sources\", \"sources\", \"sources\", \"sources\", \"sources\", \"statement\", \"statement\", \"statement\", \"statement\", \"states\", \"states\", \"states\", \"states\", \"statistics\", \"statistics\", \"statistics\", \"statistics\", \"subject\", \"subject\", \"subject\", \"subject\", \"subject\", \"subpoena\", \"subpoena\", \"subpoena\", \"subscription\", \"subscription\", \"subscription\", \"subscription\", \"support\", \"support\", \"support\", \"support\", \"support\", \"survey\", \"survey\", \"survey\", \"survey\", \"swiss\", \"swiss\", \"swiss\", \"tags\", \"tags\", \"tags\", \"tags\", \"targeted\", \"targeted\", \"targeted\", \"targeted\", \"targeted\", \"team\", \"team\", \"team\", \"team\", \"telephone\", \"telephone\", \"telephone\", \"telephone\", \"tell\", \"tell\", \"tell\", \"tell\", \"tools\", \"tools\", \"tools\", \"tools\", \"tools\", \"top\", \"top\", \"top\", \"top\", \"track\", \"track\", \"track\", \"track\", \"track\", \"tracking\", \"tracking\", \"tracking\", \"tracking\", \"tracking\", \"transactional\", \"transactional\", \"transactional\", \"twitter\", \"twitter\", \"twitter\", \"twitter\", \"two\", \"two\", \"two\", \"two\", \"unauthorized\", \"unauthorized\", \"unauthorized\", \"unauthorized\", \"union\", \"union\", \"union\", \"union\", \"union\", \"unique\", \"unique\", \"unique\", \"unique\", \"unique\", \"united\", \"united\", \"united\", \"united\", \"united\", \"updates\", \"updates\", \"updates\", \"updates\", \"updates\", \"username\", \"username\", \"username\", \"username\", \"versions\", \"versions\", \"versions\", \"versions\", \"view\", \"view\", \"view\", \"view\", \"view\", \"visible\", \"visible\", \"way\", \"way\", \"way\", \"way\", \"way\", \"websites\", \"websites\", \"websites\", \"websites\", \"websites\", \"whether\", \"whether\", \"whether\", \"whether\", \"whether\", \"without\", \"without\", \"without\", \"without\", \"without\", \"world\", \"world\"]}, \"R\": 30, \"lambda.step\": 0.01, \"plot.opts\": {\"xlab\": \"PC1\", \"ylab\": \"PC2\"}, \"topic.order\": [3, 1, 5, 2, 4]};\n",
       "\n",
       "function LDAvis_load_lib(url, callback){\n",
       "  var s = document.createElement('script');\n",
       "  s.src = url;\n",
       "  s.async = true;\n",
       "  s.onreadystatechange = s.onload = callback;\n",
       "  s.onerror = function(){console.warn(\"failed to load library \" + url);};\n",
       "  document.getElementsByTagName(\"head\")[0].appendChild(s);\n",
       "}\n",
       "\n",
       "if(typeof(LDAvis) !== \"undefined\"){\n",
       "   // already loaded: just create the visualization\n",
       "   !function(LDAvis){\n",
       "       new LDAvis(\"#\" + \"ldavis_el193561124340402888957147595\", ldavis_el193561124340402888957147595_data);\n",
       "   }(LDAvis);\n",
       "}else if(typeof define === \"function\" && define.amd){\n",
       "   // require.js is available: use it to load d3/LDAvis\n",
       "   require.config({paths: {d3: \"https://cdnjs.cloudflare.com/ajax/libs/d3/3.5.5/d3.min\"}});\n",
       "   require([\"d3\"], function(d3){\n",
       "      window.d3 = d3;\n",
       "      LDAvis_load_lib(\"https://cdn.rawgit.com/bmabey/pyLDAvis/files/ldavis.v1.0.0.js\", function(){\n",
       "        new LDAvis(\"#\" + \"ldavis_el193561124340402888957147595\", ldavis_el193561124340402888957147595_data);\n",
       "      });\n",
       "    });\n",
       "}else{\n",
       "    // require.js not available: dynamically load d3 & LDAvis\n",
       "    LDAvis_load_lib(\"https://cdnjs.cloudflare.com/ajax/libs/d3/3.5.5/d3.min.js\", function(){\n",
       "         LDAvis_load_lib(\"https://cdn.rawgit.com/bmabey/pyLDAvis/files/ldavis.v1.0.0.js\", function(){\n",
       "                 new LDAvis(\"#\" + \"ldavis_el193561124340402888957147595\", ldavis_el193561124340402888957147595_data);\n",
       "            })\n",
       "         });\n",
       "}\n",
       "</script>"
      ],
      "text/plain": [
       "PreparedData(topic_coordinates=              x         y  topics  cluster       Freq\n",
       "topic                                                \n",
       "2      0.005192  0.046606       1        1  30.109453\n",
       "0     -0.020036 -0.021877       2        1  29.193697\n",
       "4      0.107956 -0.071990       3        1  20.002089\n",
       "1     -0.107193 -0.052987       4        1  13.542729\n",
       "3      0.014081  0.100248       5        1   7.152029, topic_info=    Category        Freq            Term       Total  loglift  logprob\n",
       "148  Default  269.000000          google  269.000000  30.0000  30.0000\n",
       "326  Default  248.000000           sites  248.000000  29.0000  29.0000\n",
       "650  Default  187.000000         twitter  187.000000  28.0000  28.0000\n",
       "214  Default  295.000000          mobile  295.000000  27.0000  27.0000\n",
       "639  Default  116.000000       statement  116.000000  26.0000  26.0000\n",
       "325  Default  256.000000            site  256.000000  25.0000  25.0000\n",
       "469  Default   59.000000           group   59.000000  24.0000  24.0000\n",
       "186  Default  216.000000            like  216.000000  23.0000  23.0000\n",
       "39   Default  126.000000            apps  126.000000  22.0000  22.0000\n",
       "636  Default   79.000000           right   79.000000  21.0000  21.0000\n",
       "162  Default   47.000000      identifies   47.000000  20.0000  20.0000\n",
       "115  Default   89.000000        directly   89.000000  19.0000  19.0000\n",
       "85   Default  103.000000      connection  103.000000  18.0000  18.0000\n",
       "270  Default  235.000000          public  235.000000  17.0000  17.0000\n",
       "461  Default  102.000000        facebook  102.000000  16.0000  16.0000\n",
       "10   Default  162.000000              ad  162.000000  15.0000  15.0000\n",
       "264  Default  129.000000         product  129.000000  14.0000  14.0000\n",
       "41   Default   79.000000             ask   79.000000  13.0000  13.0000\n",
       "548  Default   61.000000        username   61.000000  12.0000  12.0000\n",
       "556  Default  112.000000  advertisements  112.000000  11.0000  11.0000\n",
       "263  Default  144.000000      processing  144.000000  10.0000  10.0000\n",
       "506  Default  146.000000         payment  146.000000   9.0000   9.0000\n",
       "320  Default   77.000000          shield   77.000000   8.0000   8.0000\n",
       "382  Default  230.000000        websites  230.000000   7.0000   7.0000\n",
       "423  Default   82.000000         beacons   82.000000   6.0000   6.0000\n",
       "184  Default   85.000000      legitimate   85.000000   5.0000   5.0000\n",
       "306  Default  132.000000          search  132.000000   4.0000   4.0000\n",
       "183  Default  163.000000           learn  163.000000   3.0000   3.0000\n",
       "463  Default   93.000000       financial   93.000000   2.0000   2.0000\n",
       "741  Default   62.000000       corporate   62.000000   1.0000   1.0000\n",
       "..       ...         ...             ...         ...      ...      ...\n",
       "707   Topic5    3.171122         logging   12.553681   1.2618  -6.6525\n",
       "302   Topic5    6.755542         reviews   27.419743   1.2369  -5.8962\n",
       "85    Topic5   25.168835      connection  103.418579   1.2246  -4.5810\n",
       "710   Topic5    6.618935          survey   27.565744   1.2111  -5.9166\n",
       "153   Topic5    5.741610            harm   24.024296   1.2064  -6.0588\n",
       "65    Topic5    6.762516           check   28.555166   1.1973  -5.8952\n",
       "696   Topic5    5.315974         session   22.540947   1.1932  -6.1359\n",
       "326   Topic5   52.408592           sites  248.305023   1.0822  -3.8475\n",
       "41    Topic5   16.259239             ask   79.452728   1.0513  -5.0179\n",
       "386   Topic5   14.761886         without   75.693970   1.0031  -5.1145\n",
       "184   Topic5   16.350536      legitimate   85.925415   0.9786  -5.0123\n",
       "754   Topic5   12.117165     performance   60.367825   1.0319  -5.3120\n",
       "588   Topic5   10.901103             eea   53.120853   1.0541  -5.4177\n",
       "463   Topic5   16.549696       financial   93.327553   0.9080  -5.0002\n",
       "214   Topic5   38.755783          mobile  295.550415   0.6062  -4.1493\n",
       "263   Topic5   22.514700      processing  144.753326   0.7769  -4.6924\n",
       "688   Topic5   10.915180        platform   60.691303   0.9221  -5.4164\n",
       "223   Topic5    9.254521         notices   46.699425   1.0192  -5.5815\n",
       "273   Topic5   11.534697         purpose   69.235634   0.8456  -5.3612\n",
       "219   Topic5   14.359634            need  104.052719   0.6573  -5.1422\n",
       "10    Topic5   17.585085              ad  162.379074   0.4149  -4.9395\n",
       "222   Topic5   16.085997          notice  141.442856   0.4638  -5.0286\n",
       "648   Topic5   11.669490           track   74.588966   0.7828  -5.3496\n",
       "382   Topic5   17.786726        websites  230.528030   0.0759  -4.9281\n",
       "212   Topic5   14.572469        messages  137.969681   0.3899  -5.1274\n",
       "578   Topic5   11.679647          comply   84.790222   0.6554  -5.3487\n",
       "786   Topic5   11.303503        tracking   86.980377   0.5972  -5.3815\n",
       "28    Topic5   12.214019       analytics  114.900116   0.3963  -5.3040\n",
       "189   Topic5   11.216051            link   86.148254   0.5991  -5.3892\n",
       "308   Topic5   11.742156         section  124.185104   0.2792  -5.3434\n",
       "\n",
       "[323 rows x 6 columns], token_table=      Topic      Freq        Term\n",
       "term                             \n",
       "1         1  0.123581       abuse\n",
       "1         2  0.679694       abuse\n",
       "1         3  0.061790       abuse\n",
       "1         4  0.185371       abuse\n",
       "1         5  0.061790       abuse\n",
       "553       1  0.746626      accept\n",
       "553       2  0.223988      accept\n",
       "411       1  0.556554  accordance\n",
       "411       2  0.135378  accordance\n",
       "411       3  0.165462  accordance\n",
       "411       5  0.135378  accordance\n",
       "4         1  0.294385    accounts\n",
       "4         2  0.601036    accounts\n",
       "4         3  0.049064    accounts\n",
       "4         4  0.049064    accounts\n",
       "769       1  0.084699    accuracy\n",
       "769       2  0.084699    accuracy\n",
       "769       3  0.677592    accuracy\n",
       "769       5  0.084699    accuracy\n",
       "392       1  0.085492         act\n",
       "392       2  0.085492         act\n",
       "392       3  0.641192         act\n",
       "392       4  0.085492         act\n",
       "392       5  0.085492         act\n",
       "413       1  0.335041  activities\n",
       "413       2  0.255269  activities\n",
       "413       3  0.319086  activities\n",
       "413       4  0.023931  activities\n",
       "413       5  0.063817  activities\n",
       "8         1  0.086172    activity\n",
       "...     ...       ...         ...\n",
       "372       4  0.440483    versions\n",
       "376       1  0.212030        view\n",
       "376       2  0.282706        view\n",
       "376       3  0.141353        view\n",
       "376       4  0.306265        view\n",
       "376       5  0.058897        view\n",
       "378       2  0.657072     visible\n",
       "378       4  0.311245     visible\n",
       "380       1  0.555337         way\n",
       "380       2  0.190897         way\n",
       "380       3  0.017354         way\n",
       "380       4  0.190897         way\n",
       "380       5  0.052063         way\n",
       "382       1  0.581274    websites\n",
       "382       2  0.229907    websites\n",
       "382       3  0.060730    websites\n",
       "382       4  0.052054    websites\n",
       "382       5  0.078082    websites\n",
       "385       1  0.166720     whether\n",
       "385       2  0.484281     whether\n",
       "385       3  0.214354     whether\n",
       "385       4  0.103207     whether\n",
       "385       5  0.031756     whether\n",
       "386       1  0.475599     without\n",
       "386       2  0.171744     without\n",
       "386       3  0.079267     without\n",
       "386       4  0.079267     without\n",
       "386       5  0.198166     without\n",
       "388       2  0.694143       world\n",
       "388       4  0.266978       world\n",
       "\n",
       "[1104 rows x 3 columns], R=30, lambda_step=0.01, plot_opts={'xlab': 'PC1', 'ylab': 'PC2'}, topic_order=[3, 1, 5, 2, 4])"
      ]
     },
     "execution_count": 41,
     "metadata": {},
     "output_type": "execute_result"
    }
   ],
   "source": [
    "pyLDAvis.gensim.prepare(lda, list(corpus), id2word)"
   ]
  },
  {
   "cell_type": "code",
   "execution_count": null,
   "metadata": {},
   "outputs": [],
   "source": []
  }
 ],
 "metadata": {
  "kernelspec": {
   "display_name": "Python 3",
   "language": "python",
   "name": "python3"
  },
  "language_info": {
   "codemirror_mode": {
    "name": "ipython",
    "version": 3
   },
   "file_extension": ".py",
   "mimetype": "text/x-python",
   "name": "python",
   "nbconvert_exporter": "python",
   "pygments_lexer": "ipython3",
   "version": "3.7.3"
  }
 },
 "nbformat": 4,
 "nbformat_minor": 2
}
