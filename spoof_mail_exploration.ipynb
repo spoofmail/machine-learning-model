{
 "cells": [
  {
   "cell_type": "code",
   "execution_count": 1,
   "metadata": {},
   "outputs": [],
   "source": [
    "import pandas as pd\n",
    "import numpy as np\n",
    "import matplotlib.pyplot as plt"
   ]
  },
  {
   "cell_type": "code",
   "execution_count": 30,
   "metadata": {},
   "outputs": [
    {
     "data": {
      "text/html": [
       "<div>\n",
       "<style scoped>\n",
       "    .dataframe tbody tr th:only-of-type {\n",
       "        vertical-align: middle;\n",
       "    }\n",
       "\n",
       "    .dataframe tbody tr th {\n",
       "        vertical-align: top;\n",
       "    }\n",
       "\n",
       "    .dataframe thead th {\n",
       "        text-align: right;\n",
       "    }\n",
       "</style>\n",
       "<table border=\"1\" class=\"dataframe\">\n",
       "  <thead>\n",
       "    <tr style=\"text-align: right;\">\n",
       "      <th></th>\n",
       "      <th>Country_Rank</th>\n",
       "      <th>Website</th>\n",
       "      <th>Trustworthiness</th>\n",
       "      <th>Avg_Daily_Visitors</th>\n",
       "      <th>Child_Safety</th>\n",
       "      <th>Avg_Daily_Pageviews</th>\n",
       "      <th>Privacy</th>\n",
       "      <th>Traffic_Rank</th>\n",
       "      <th>Daily_Pageviews</th>\n",
       "      <th>Daily_Pageviews_per_user_percentage</th>\n",
       "      <th>Location</th>\n",
       "      <th>Hosted_by</th>\n",
       "      <th>Registrant</th>\n",
       "      <th>Registrar</th>\n",
       "      <th>country</th>\n",
       "      <th>Privacy_policy</th>\n",
       "    </tr>\n",
       "  </thead>\n",
       "  <tbody>\n",
       "    <tr>\n",
       "      <th>0</th>\n",
       "      <td>1</td>\n",
       "      <td>www.google.com</td>\n",
       "      <td>Excellent</td>\n",
       "      <td>518 108 189</td>\n",
       "      <td>Excellent</td>\n",
       "      <td>4 186 314 171</td>\n",
       "      <td>Excellent</td>\n",
       "      <td>1</td>\n",
       "      <td>8.448960</td>\n",
       "      <td>33.9</td>\n",
       "      <td>United States</td>\n",
       "      <td>Google Inc.</td>\n",
       "      <td>DNS Admin (Google Inc.)</td>\n",
       "      <td>MARKMONITOR INC.</td>\n",
       "      <td>United States</td>\n",
       "      <td>Privacy Policy Last modified: December 18, 201...</td>\n",
       "    </tr>\n",
       "    <tr>\n",
       "      <th>1</th>\n",
       "      <td>2</td>\n",
       "      <td>www.youtube.com</td>\n",
       "      <td>Excellent</td>\n",
       "      <td>506 457 282</td>\n",
       "      <td>Excellent</td>\n",
       "      <td>2 679 159 025</td>\n",
       "      <td>Excellent</td>\n",
       "      <td>2</td>\n",
       "      <td>5.934720</td>\n",
       "      <td>3.8</td>\n",
       "      <td>United States</td>\n",
       "      <td>Google Inc.</td>\n",
       "      <td>DNS Admin (Google Inc.)</td>\n",
       "      <td>MARKMONITOR INC.</td>\n",
       "      <td>United States</td>\n",
       "      <td>Last modified: June 24, 2013 (view archived ve...</td>\n",
       "    </tr>\n",
       "    <tr>\n",
       "      <th>2</th>\n",
       "      <td>3</td>\n",
       "      <td>www.facebook.com</td>\n",
       "      <td>Excellent</td>\n",
       "      <td>270 071 255</td>\n",
       "      <td>Good</td>\n",
       "      <td>1 082 985 733</td>\n",
       "      <td>Excellent</td>\n",
       "      <td>3</td>\n",
       "      <td>2.046720</td>\n",
       "      <td>-8.2</td>\n",
       "      <td>Ireland</td>\n",
       "      <td>Facebook</td>\n",
       "      <td>Domain Administrator (Facebook, Inc.)</td>\n",
       "      <td>MARKMONITOR INC.</td>\n",
       "      <td>United States</td>\n",
       "      <td>Data Policy\\nThis policy describes the informa...</td>\n",
       "    </tr>\n",
       "    <tr>\n",
       "      <th>3</th>\n",
       "      <td>4</td>\n",
       "      <td>www.reddit.com</td>\n",
       "      <td>Excellent</td>\n",
       "      <td>60 614 015</td>\n",
       "      <td>Excellent</td>\n",
       "      <td>649 176 107</td>\n",
       "      <td>Excellent</td>\n",
       "      <td>9</td>\n",
       "      <td>1.390080</td>\n",
       "      <td>0.8</td>\n",
       "      <td>United States</td>\n",
       "      <td>Fastly</td>\n",
       "      <td>Domain Administrator (Reddit Inc)</td>\n",
       "      <td>GANDI SAS</td>\n",
       "      <td>United States</td>\n",
       "      <td>Reddit Privacy Policy\\nEffective June 8, 2018....</td>\n",
       "    </tr>\n",
       "    <tr>\n",
       "      <th>4</th>\n",
       "      <td>5</td>\n",
       "      <td>www.amazon.com</td>\n",
       "      <td>Excellent</td>\n",
       "      <td>48 820 414</td>\n",
       "      <td>Excellent</td>\n",
       "      <td>399 350 988</td>\n",
       "      <td>Excellent</td>\n",
       "      <td>11</td>\n",
       "      <td>0.770688</td>\n",
       "      <td>-1.5</td>\n",
       "      <td>United States</td>\n",
       "      <td>Amazon Technologies Inc.</td>\n",
       "      <td>Hostmaster, Amazon Legal Dept. (Amazon Technol...</td>\n",
       "      <td>MARKMONITOR INC.</td>\n",
       "      <td>United States</td>\n",
       "      <td>Amazon Privacy Notice\\n\\nLast updated: August ...</td>\n",
       "    </tr>\n",
       "  </tbody>\n",
       "</table>\n",
       "</div>"
      ],
      "text/plain": [
       "   Country_Rank           Website Trustworthiness Avg_Daily_Visitors  \\\n",
       "0             1    www.google.com       Excellent        518 108 189   \n",
       "1             2   www.youtube.com       Excellent        506 457 282   \n",
       "2             3  www.facebook.com       Excellent        270 071 255   \n",
       "3             4    www.reddit.com       Excellent         60 614 015   \n",
       "4             5    www.amazon.com       Excellent         48 820 414   \n",
       "\n",
       "  Child_Safety Avg_Daily_Pageviews    Privacy  Traffic_Rank  Daily_Pageviews  \\\n",
       "0    Excellent       4 186 314 171  Excellent             1         8.448960   \n",
       "1    Excellent       2 679 159 025  Excellent             2         5.934720   \n",
       "2         Good       1 082 985 733  Excellent             3         2.046720   \n",
       "3    Excellent         649 176 107  Excellent             9         1.390080   \n",
       "4    Excellent         399 350 988  Excellent            11         0.770688   \n",
       "\n",
       "   Daily_Pageviews_per_user_percentage       Location  \\\n",
       "0                                 33.9  United States   \n",
       "1                                  3.8  United States   \n",
       "2                                 -8.2        Ireland   \n",
       "3                                  0.8  United States   \n",
       "4                                 -1.5  United States   \n",
       "\n",
       "                  Hosted_by  \\\n",
       "0               Google Inc.   \n",
       "1               Google Inc.   \n",
       "2                  Facebook   \n",
       "3                    Fastly   \n",
       "4  Amazon Technologies Inc.   \n",
       "\n",
       "                                          Registrant         Registrar  \\\n",
       "0                            DNS Admin (Google Inc.)  MARKMONITOR INC.   \n",
       "1                            DNS Admin (Google Inc.)  MARKMONITOR INC.   \n",
       "2              Domain Administrator (Facebook, Inc.)  MARKMONITOR INC.   \n",
       "3                  Domain Administrator (Reddit Inc)         GANDI SAS   \n",
       "4  Hostmaster, Amazon Legal Dept. (Amazon Technol...  MARKMONITOR INC.   \n",
       "\n",
       "         country                                     Privacy_policy  \n",
       "0  United States  Privacy Policy Last modified: December 18, 201...  \n",
       "1  United States  Last modified: June 24, 2013 (view archived ve...  \n",
       "2  United States  Data Policy\\nThis policy describes the informa...  \n",
       "3  United States  Reddit Privacy Policy\\nEffective June 8, 2018....  \n",
       "4  United States  Amazon Privacy Notice\\n\\nLast updated: August ...  "
      ]
     },
     "execution_count": 30,
     "metadata": {},
     "output_type": "execute_result"
    }
   ],
   "source": [
    "web_info_df = pd.read_excel(\"/Users/ljohnson/repos/livjab/spoofmail/website_privacy.xlsx\", sheet_name=\"Sheet1\")\n",
    "web_info_df.head()"
   ]
  },
  {
   "cell_type": "code",
   "execution_count": 31,
   "metadata": {},
   "outputs": [
    {
     "data": {
      "text/plain": [
       "Excellent         46\n",
       "Poor               1\n",
       "Unsatisfactory     1\n",
       "Good               1\n",
       "Name: Privacy, dtype: int64"
      ]
     },
     "execution_count": 31,
     "metadata": {},
     "output_type": "execute_result"
    }
   ],
   "source": [
    "web_info_df[\"Privacy\"].value_counts()"
   ]
  },
  {
   "cell_type": "code",
   "execution_count": 32,
   "metadata": {},
   "outputs": [
    {
     "data": {
      "text/plain": [
       "1    46\n",
       "0     3\n",
       "Name: Privacy, dtype: int64"
      ]
     },
     "execution_count": 32,
     "metadata": {},
     "output_type": "execute_result"
    }
   ],
   "source": [
    "# target will be privacy column\n",
    "# will change to 1/0 (excellent/not excellent)\n",
    "\n",
    "web_info_df[\"Privacy\"] = web_info_df[\"Privacy\"].replace({\"Excellent\": 1, \"Good\": 0, \"Unsatisfactory\": 0, \"Poor\": 0})\n",
    "web_info_df[\"Privacy\"].value_counts()"
   ]
  },
  {
   "cell_type": "code",
   "execution_count": 33,
   "metadata": {},
   "outputs": [],
   "source": [
    "# getting privacy policy text tokenized\n",
    "\n",
    "docs = web_info_df[\"Privacy_policy\"].values.tolist()"
   ]
  },
  {
   "cell_type": "code",
   "execution_count": 18,
   "metadata": {},
   "outputs": [],
   "source": [
    "import gensim\n",
    "from gensim.utils import simple_preprocess\n",
    "\n",
    "def tokenize(doc):\n",
    "    for doc in docs:\n",
    "        yield(simple_preprocess(str(doc), deacc=True))"
   ]
  },
  {
   "cell_type": "code",
   "execution_count": 20,
   "metadata": {},
   "outputs": [
    {
     "data": {
      "text/plain": [
       "['privacy',\n",
       " 'policy',\n",
       " 'last',\n",
       " 'modified',\n",
       " 'december',\n",
       " 'view',\n",
       " 'archived',\n",
       " 'versions',\n",
       " 'the',\n",
       " 'hyperlinked']"
      ]
     },
     "execution_count": 20,
     "metadata": {},
     "output_type": "execute_result"
    }
   ],
   "source": [
    "data_words = list(tokenize(docs))\n",
    "data_words[0][:10]"
   ]
  },
  {
   "cell_type": "code",
   "execution_count": 21,
   "metadata": {},
   "outputs": [],
   "source": [
    "from nltk.corpus import stopwords\n",
    "\n",
    "stop_words = stopwords.words('english')\n",
    "\n",
    "def remove_stopwords(texts):\n",
    "    return [[word for word in simple_preprocess(str(doc)) if word not in stop_words] for doc in texts]\n",
    "\n",
    "data_words = remove_stopwords(data_words)"
   ]
  },
  {
   "cell_type": "code",
   "execution_count": 22,
   "metadata": {},
   "outputs": [
    {
     "name": "stderr",
     "output_type": "stream",
     "text": [
      "/Users/ljohnson/anaconda3/lib/python3.7/site-packages/sklearn/feature_extraction/text.py:301: UserWarning: Your stop_words may be inconsistent with your preprocessing. Tokenizing the stop words generated tokens ['b', 'c', 'd', 'e', 'f', 'g', 'h', 'k', 'l', 'm', 'n', 'o', 'p', 'r', 's', 't', 'u', 'v', 'w', 'x', 'y'] not in stop_words.\n",
      "  'stop_words.' % sorted(inconsistent))\n"
     ]
    },
    {
     "data": {
      "text/html": [
       "<div>\n",
       "<style scoped>\n",
       "    .dataframe tbody tr th:only-of-type {\n",
       "        vertical-align: middle;\n",
       "    }\n",
       "\n",
       "    .dataframe tbody tr th {\n",
       "        vertical-align: top;\n",
       "    }\n",
       "\n",
       "    .dataframe thead th {\n",
       "        text-align: right;\n",
       "    }\n",
       "</style>\n",
       "<table border=\"1\" class=\"dataframe\">\n",
       "  <thead>\n",
       "    <tr style=\"text-align: right;\">\n",
       "      <th></th>\n",
       "      <th>abandoning</th>\n",
       "      <th>abbot</th>\n",
       "      <th>abide</th>\n",
       "      <th>abides</th>\n",
       "      <th>ability</th>\n",
       "      <th>able</th>\n",
       "      <th>abn</th>\n",
       "      <th>aboutads</th>\n",
       "      <th>aboutcookies</th>\n",
       "      <th>absolute</th>\n",
       "      <th>...</th>\n",
       "      <th>youradchoices</th>\n",
       "      <th>youtube</th>\n",
       "      <th>yume</th>\n",
       "      <th>zealand</th>\n",
       "      <th>zillow</th>\n",
       "      <th>zip</th>\n",
       "      <th>zone</th>\n",
       "      <th>zoosk</th>\n",
       "      <th>zumobi</th>\n",
       "      <th>zune</th>\n",
       "    </tr>\n",
       "  </thead>\n",
       "  <tbody>\n",
       "    <tr>\n",
       "      <th>0</th>\n",
       "      <td>0.0</td>\n",
       "      <td>0.0</td>\n",
       "      <td>0.0</td>\n",
       "      <td>0.0</td>\n",
       "      <td>0.006094</td>\n",
       "      <td>0.008222</td>\n",
       "      <td>0.0</td>\n",
       "      <td>0.0</td>\n",
       "      <td>0.0</td>\n",
       "      <td>0.0</td>\n",
       "      <td>...</td>\n",
       "      <td>0.0</td>\n",
       "      <td>0.084656</td>\n",
       "      <td>0.0</td>\n",
       "      <td>0.0</td>\n",
       "      <td>0.0</td>\n",
       "      <td>0.0</td>\n",
       "      <td>0.000000</td>\n",
       "      <td>0.0</td>\n",
       "      <td>0.0</td>\n",
       "      <td>0.0</td>\n",
       "    </tr>\n",
       "    <tr>\n",
       "      <th>1</th>\n",
       "      <td>0.0</td>\n",
       "      <td>0.0</td>\n",
       "      <td>0.0</td>\n",
       "      <td>0.0</td>\n",
       "      <td>0.011678</td>\n",
       "      <td>0.015757</td>\n",
       "      <td>0.0</td>\n",
       "      <td>0.0</td>\n",
       "      <td>0.0</td>\n",
       "      <td>0.0</td>\n",
       "      <td>...</td>\n",
       "      <td>0.0</td>\n",
       "      <td>0.000000</td>\n",
       "      <td>0.0</td>\n",
       "      <td>0.0</td>\n",
       "      <td>0.0</td>\n",
       "      <td>0.0</td>\n",
       "      <td>0.000000</td>\n",
       "      <td>0.0</td>\n",
       "      <td>0.0</td>\n",
       "      <td>0.0</td>\n",
       "    </tr>\n",
       "    <tr>\n",
       "      <th>2</th>\n",
       "      <td>0.0</td>\n",
       "      <td>0.0</td>\n",
       "      <td>0.0</td>\n",
       "      <td>0.0</td>\n",
       "      <td>0.006170</td>\n",
       "      <td>0.008325</td>\n",
       "      <td>0.0</td>\n",
       "      <td>0.0</td>\n",
       "      <td>0.0</td>\n",
       "      <td>0.0</td>\n",
       "      <td>...</td>\n",
       "      <td>0.0</td>\n",
       "      <td>0.000000</td>\n",
       "      <td>0.0</td>\n",
       "      <td>0.0</td>\n",
       "      <td>0.0</td>\n",
       "      <td>0.0</td>\n",
       "      <td>0.009838</td>\n",
       "      <td>0.0</td>\n",
       "      <td>0.0</td>\n",
       "      <td>0.0</td>\n",
       "    </tr>\n",
       "    <tr>\n",
       "      <th>3</th>\n",
       "      <td>0.0</td>\n",
       "      <td>0.0</td>\n",
       "      <td>0.0</td>\n",
       "      <td>0.0</td>\n",
       "      <td>0.000000</td>\n",
       "      <td>0.021480</td>\n",
       "      <td>0.0</td>\n",
       "      <td>0.0</td>\n",
       "      <td>0.0</td>\n",
       "      <td>0.0</td>\n",
       "      <td>...</td>\n",
       "      <td>0.0</td>\n",
       "      <td>0.000000</td>\n",
       "      <td>0.0</td>\n",
       "      <td>0.0</td>\n",
       "      <td>0.0</td>\n",
       "      <td>0.0</td>\n",
       "      <td>0.000000</td>\n",
       "      <td>0.0</td>\n",
       "      <td>0.0</td>\n",
       "      <td>0.0</td>\n",
       "    </tr>\n",
       "    <tr>\n",
       "      <th>4</th>\n",
       "      <td>0.0</td>\n",
       "      <td>0.0</td>\n",
       "      <td>0.0</td>\n",
       "      <td>0.0</td>\n",
       "      <td>0.008143</td>\n",
       "      <td>0.016479</td>\n",
       "      <td>0.0</td>\n",
       "      <td>0.0</td>\n",
       "      <td>0.0</td>\n",
       "      <td>0.0</td>\n",
       "      <td>...</td>\n",
       "      <td>0.0</td>\n",
       "      <td>0.000000</td>\n",
       "      <td>0.0</td>\n",
       "      <td>0.0</td>\n",
       "      <td>0.0</td>\n",
       "      <td>0.0</td>\n",
       "      <td>0.012983</td>\n",
       "      <td>0.0</td>\n",
       "      <td>0.0</td>\n",
       "      <td>0.0</td>\n",
       "    </tr>\n",
       "  </tbody>\n",
       "</table>\n",
       "<p>5 rows × 4443 columns</p>\n",
       "</div>"
      ],
      "text/plain": [
       "   abandoning  abbot  abide  abides   ability      able  abn  aboutads  \\\n",
       "0         0.0    0.0    0.0     0.0  0.006094  0.008222  0.0       0.0   \n",
       "1         0.0    0.0    0.0     0.0  0.011678  0.015757  0.0       0.0   \n",
       "2         0.0    0.0    0.0     0.0  0.006170  0.008325  0.0       0.0   \n",
       "3         0.0    0.0    0.0     0.0  0.000000  0.021480  0.0       0.0   \n",
       "4         0.0    0.0    0.0     0.0  0.008143  0.016479  0.0       0.0   \n",
       "\n",
       "   aboutcookies  absolute  ...  youradchoices   youtube  yume  zealand  \\\n",
       "0           0.0       0.0  ...            0.0  0.084656   0.0      0.0   \n",
       "1           0.0       0.0  ...            0.0  0.000000   0.0      0.0   \n",
       "2           0.0       0.0  ...            0.0  0.000000   0.0      0.0   \n",
       "3           0.0       0.0  ...            0.0  0.000000   0.0      0.0   \n",
       "4           0.0       0.0  ...            0.0  0.000000   0.0      0.0   \n",
       "\n",
       "   zillow  zip      zone  zoosk  zumobi  zune  \n",
       "0     0.0  0.0  0.000000    0.0     0.0   0.0  \n",
       "1     0.0  0.0  0.000000    0.0     0.0   0.0  \n",
       "2     0.0  0.0  0.009838    0.0     0.0   0.0  \n",
       "3     0.0  0.0  0.000000    0.0     0.0   0.0  \n",
       "4     0.0  0.0  0.012983    0.0     0.0   0.0  \n",
       "\n",
       "[5 rows x 4443 columns]"
      ]
     },
     "execution_count": 22,
     "metadata": {},
     "output_type": "execute_result"
    }
   ],
   "source": [
    "from sklearn.feature_extraction.text import TfidfVectorizer\n",
    "\n",
    "tfidf = TfidfVectorizer(stop_words='english', tokenizer=lambda doc: doc, lowercase=False)\n",
    "\n",
    "dtm = tfidf.fit_transform(data_words)\n",
    "df = pd.DataFrame(dtm.todense(), columns = tfidf.get_feature_names())\n",
    "df.head()"
   ]
  },
  {
   "cell_type": "code",
   "execution_count": 23,
   "metadata": {},
   "outputs": [
    {
     "data": {
      "text/plain": [
       "NearestNeighbors(algorithm='ball_tree', leaf_size=30, metric='minkowski',\n",
       "         metric_params=None, n_jobs=None, n_neighbors=10, p=2, radius=1.0)"
      ]
     },
     "execution_count": 23,
     "metadata": {},
     "output_type": "execute_result"
    }
   ],
   "source": [
    "from sklearn.neighbors import NearestNeighbors\n",
    "\n",
    "nn = NearestNeighbors(n_neighbors=10, algorithm='ball_tree')\n",
    "\n",
    "nn.fit(dtm.todense())"
   ]
  },
  {
   "cell_type": "code",
   "execution_count": 24,
   "metadata": {},
   "outputs": [],
   "source": [
    "sample_policy = [\"We will sell your data to third parties. Nothing is secure. We do not care about your privacy\"]"
   ]
  },
  {
   "cell_type": "code",
   "execution_count": 25,
   "metadata": {},
   "outputs": [
    {
     "data": {
      "text/plain": [
       "(array([[1., 1., 1., 1., 1., 1., 1., 1., 1., 1.]]),\n",
       " array([[34, 27, 12, 31, 20, 38, 33,  1,  4, 30]]))"
      ]
     },
     "execution_count": 25,
     "metadata": {},
     "output_type": "execute_result"
    }
   ],
   "source": [
    "new = tfidf.transform(sample_policy)\n",
    "\n",
    "nn.kneighbors(new.todense())"
   ]
  },
  {
   "cell_type": "code",
   "execution_count": 34,
   "metadata": {},
   "outputs": [
    {
     "name": "stdout",
     "output_type": "stream",
     "text": [
      "Fitting 5 folds for each of 9 candidates, totalling 45 fits\n"
     ]
    },
    {
     "name": "stderr",
     "output_type": "stream",
     "text": [
      "/Users/ljohnson/anaconda3/lib/python3.7/site-packages/sklearn/model_selection/_split.py:652: Warning: The least populated class in y has only 3 members, which is too few. The minimum number of members in any class cannot be less than n_splits=5.\n",
      "  % (min_groups, self.n_splits)), Warning)\n",
      "[Parallel(n_jobs=-1)]: Using backend LokyBackend with 4 concurrent workers.\n",
      "[Parallel(n_jobs=-1)]: Done  45 out of  45 | elapsed:   17.2s finished\n",
      "/Users/ljohnson/anaconda3/lib/python3.7/site-packages/sklearn/model_selection/_search.py:841: DeprecationWarning: The default of the `iid` parameter will change from True to False in version 0.22 and will be removed in 0.24. This will change numeric results when test-set sizes are unequal.\n",
      "  DeprecationWarning)\n",
      "/Users/ljohnson/anaconda3/lib/python3.7/site-packages/sklearn/feature_extraction/text.py:301: UserWarning: Your stop_words may be inconsistent with your preprocessing. Tokenizing the stop words generated tokens ['b', 'c', 'd', 'e', 'f', 'g', 'h', 'k', 'l', 'm', 'n', 'o', 'p', 'r', 's', 't', 'u', 'v', 'w', 'x', 'y'] not in stop_words.\n",
      "  'stop_words.' % sorted(inconsistent))\n",
      "/Users/ljohnson/anaconda3/lib/python3.7/site-packages/sklearn/linear_model/stochastic_gradient.py:183: FutureWarning: max_iter and tol parameters have been added in SGDClassifier in 0.19. If max_iter is set but tol is left unset, the default value for tol in 0.19 and 0.20 will be None (which is equivalent to -infinity, so it has no effect) but will change in 0.21 to 1e-3. Specify tol to silence this warning.\n",
      "  FutureWarning)\n"
     ]
    },
    {
     "data": {
      "text/plain": [
       "GridSearchCV(cv=5, error_score='raise-deprecating',\n",
       "       estimator=Pipeline(memory=None,\n",
       "     steps=[('vect', TfidfVectorizer(analyzer='word', binary=False, decode_error='strict',\n",
       "        dtype=<class 'numpy.float64'>, encoding='utf-8', input='content',\n",
       "        lowercase=False, max_df=1.0, max_features=None, min_df=1,\n",
       "        ngram_range=(1, 1), norm='l2', preprocessor=None, smooth_idf=True,...m_state=None, shuffle=True, tol=None,\n",
       "       validation_fraction=0.1, verbose=0, warm_start=False))]),\n",
       "       fit_params=None, iid='warn', n_jobs=-1,\n",
       "       param_grid={'vect__max_df': (0.5, 0.75, 1.0), 'clf__max_iter': (20, 10, 100)},\n",
       "       pre_dispatch='2*n_jobs', refit=True, return_train_score='warn',\n",
       "       scoring=None, verbose=1)"
      ]
     },
     "execution_count": 34,
     "metadata": {},
     "output_type": "execute_result"
    }
   ],
   "source": [
    "from sklearn.pipeline import Pipeline\n",
    "from sklearn.linear_model import SGDClassifier\n",
    "from sklearn.model_selection import GridSearchCV\n",
    "\n",
    "vect = TfidfVectorizer(stop_words='english', tokenizer=lambda doc: doc, lowercase=False)\n",
    "sgdc = SGDClassifier()\n",
    "\n",
    "pipe = Pipeline([('vect', vect), ('clf', sgdc)])\n",
    "\n",
    "parameters = {\n",
    "    'vect__max_df': (0.5, 0.75, 1.0),\n",
    "    'clf__max_iter':(20, 10, 100)\n",
    "}\n",
    "\n",
    "grid_search = GridSearchCV(pipe, parameters, cv=5, n_jobs=-1, verbose=1)\n",
    "\n",
    "grid_search.fit(data_words, web_info_df[\"Privacy\"])"
   ]
  },
  {
   "cell_type": "code",
   "execution_count": 35,
   "metadata": {},
   "outputs": [
    {
     "data": {
      "text/plain": [
       "array([1])"
      ]
     },
     "execution_count": 35,
     "metadata": {},
     "output_type": "execute_result"
    }
   ],
   "source": [
    "y_pred = grid_search.predict(sample_policy)\n",
    "y_pred"
   ]
  },
  {
   "cell_type": "code",
   "execution_count": null,
   "metadata": {},
   "outputs": [],
   "source": []
  }
 ],
 "metadata": {
  "kernelspec": {
   "display_name": "Python 3",
   "language": "python",
   "name": "python3"
  },
  "language_info": {
   "codemirror_mode": {
    "name": "ipython",
    "version": 3
   },
   "file_extension": ".py",
   "mimetype": "text/x-python",
   "name": "python",
   "nbconvert_exporter": "python",
   "pygments_lexer": "ipython3",
   "version": "3.7.3"
  }
 },
 "nbformat": 4,
 "nbformat_minor": 2
}
